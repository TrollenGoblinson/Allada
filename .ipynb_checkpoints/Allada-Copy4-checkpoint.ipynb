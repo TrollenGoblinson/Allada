{
 "cells": [
  {
   "cell_type": "markdown",
   "id": "50a2d0dd",
   "metadata": {},
   "source": [
    "## Задание 1"
   ]
  },
  {
   "cell_type": "markdown",
   "id": "41329b5b",
   "metadata": {},
   "source": [
    "Необходимо с помощью SQL запроса собрать одну общую таблицу из всех данных витрин, которая должна включать в себя все поля этих витрин."
   ]
  },
  {
   "cell_type": "markdown",
   "id": "f12192be",
   "metadata": {},
   "source": [
    "### Загрузка данных и импорты"
   ]
  },
  {
   "cell_type": "code",
   "execution_count": 89,
   "id": "867dcad0",
   "metadata": {},
   "outputs": [],
   "source": [
    "import pandas as pd\n",
    "import warnings\n",
    "# мне через psycopg2 привычнее подключаться чем через алхимию. \n",
    "# Алхимия чаще для djangi + sqlite,  а у мня в оснвном PostgeSQL\n",
    "import matplotlib.pyplot as plt\n",
    "import psycopg2 \n",
    "import csv\n",
    "import time\n",
    "from statsmodels.tsa.seasonal import seasonal_decompose\n",
    "\n",
    "warnings.filterwarnings('ignore')\n",
    "import pandas_profiling\n",
    "from pandas_profiling import ProfileReport"
   ]
  },
  {
   "cell_type": "markdown",
   "id": "07a860f5",
   "metadata": {},
   "source": [
    "Загрузка данных"
   ]
  },
  {
   "cell_type": "code",
   "execution_count": 115,
   "id": "799ce9a7",
   "metadata": {},
   "outputs": [
    {
     "name": "stdout",
     "output_type": "stream",
     "text": [
      "CPU times: total: 8.97 s\n",
      "Wall time: 9.02 s\n"
     ]
    }
   ],
   "source": [
    "%%time\n",
    "excel_file = pd.ExcelFile('Витрины.xlsx')"
   ]
  },
  {
   "cell_type": "code",
   "execution_count": 116,
   "id": "a4d20105",
   "metadata": {},
   "outputs": [],
   "source": [
    "sheet_names = excel_file.sheet_names"
   ]
  },
  {
   "cell_type": "markdown",
   "id": "59f2c18b",
   "metadata": {},
   "source": [
    "загрузка листов"
   ]
  },
  {
   "cell_type": "code",
   "execution_count": 117,
   "id": "3ae22f7f",
   "metadata": {},
   "outputs": [
    {
     "name": "stdout",
     "output_type": "stream",
     "text": [
      "CPU times: total: 53.5 s\n",
      "Wall time: 53.8 s\n"
     ]
    }
   ],
   "source": [
    "%%time\n",
    "dfs = {}\n",
    "for sheet_name in sheet_names:\n",
    "    df = excel_file.parse(sheet_name)\n",
    "    dfs[sheet_name] = df"
   ]
  },
  {
   "cell_type": "code",
   "execution_count": 118,
   "id": "36ca3c85",
   "metadata": {},
   "outputs": [
    {
     "name": "stdout",
     "output_type": "stream",
     "text": [
      "['task', 'call', 'action', 'product', 'emp_x_org_gr', 'result', 'queue', 'group', 'mngmnt', 'horoscope']\n"
     ]
    }
   ],
   "source": [
    "# Вывод списка названий датафреймов\n",
    "print(list(dfs.keys()))"
   ]
  },
  {
   "cell_type": "code",
   "execution_count": 119,
   "id": "76f3f123",
   "metadata": {},
   "outputs": [],
   "source": [
    "# Делаем отдельные датафреймы из каждой записи ключ/занчение словаря\n",
    "for key, value in dfs.items():\n",
    "    globals()[key] = value"
   ]
  },
  {
   "cell_type": "markdown",
   "id": "bd73aaed",
   "metadata": {},
   "source": [
    "Проверяем, что получилось"
   ]
  },
  {
   "cell_type": "code",
   "execution_count": 120,
   "id": "453994c3",
   "metadata": {},
   "outputs": [
    {
     "data": {
      "text/html": [
       "<div>\n",
       "<style scoped>\n",
       "    .dataframe tbody tr th:only-of-type {\n",
       "        vertical-align: middle;\n",
       "    }\n",
       "\n",
       "    .dataframe tbody tr th {\n",
       "        vertical-align: top;\n",
       "    }\n",
       "\n",
       "    .dataframe thead th {\n",
       "        text-align: right;\n",
       "    }\n",
       "</style>\n",
       "<table border=\"1\" class=\"dataframe\">\n",
       "  <thead>\n",
       "    <tr style=\"text-align: right;\">\n",
       "      <th></th>\n",
       "      <th>task_rk</th>\n",
       "      <th>task_stage_id</th>\n",
       "      <th>source_system_cd</th>\n",
       "      <th>create_dttm</th>\n",
       "      <th>finish_dttm</th>\n",
       "    </tr>\n",
       "  </thead>\n",
       "  <tbody>\n",
       "    <tr>\n",
       "      <th>0</th>\n",
       "      <td>15431250</td>\n",
       "      <td>18.0</td>\n",
       "      <td>FW</td>\n",
       "      <td>2022-08-25 09:05:53</td>\n",
       "      <td>NaN</td>\n",
       "    </tr>\n",
       "    <tr>\n",
       "      <th>1</th>\n",
       "      <td>93508186</td>\n",
       "      <td>1.0</td>\n",
       "      <td>GI</td>\n",
       "      <td>2022-08-01 05:09:01</td>\n",
       "      <td>2022-08-02 13:35:02</td>\n",
       "    </tr>\n",
       "    <tr>\n",
       "      <th>2</th>\n",
       "      <td>357853</td>\n",
       "      <td>1.0</td>\n",
       "      <td>GI</td>\n",
       "      <td>2022-08-08 22:05:30</td>\n",
       "      <td>2022-08-08 22:07:32</td>\n",
       "    </tr>\n",
       "  </tbody>\n",
       "</table>\n",
       "</div>"
      ],
      "text/plain": [
       "    task_rk  task_stage_id source_system_cd          create_dttm  \\\n",
       "0  15431250           18.0               FW  2022-08-25 09:05:53   \n",
       "1  93508186            1.0               GI  2022-08-01 05:09:01   \n",
       "2    357853            1.0               GI  2022-08-08 22:05:30   \n",
       "\n",
       "           finish_dttm  \n",
       "0                  NaN  \n",
       "1  2022-08-02 13:35:02  \n",
       "2  2022-08-08 22:07:32  "
      ]
     },
     "execution_count": 120,
     "metadata": {},
     "output_type": "execute_result"
    }
   ],
   "source": [
    "task.head(3)"
   ]
  },
  {
   "cell_type": "code",
   "execution_count": 8,
   "id": "6e1b85f5",
   "metadata": {
    "scrolled": true
   },
   "outputs": [
    {
     "data": {
      "text/plain": [
       "task_rk               int64\n",
       "task_stage_id       float64\n",
       "source_system_cd     object\n",
       "create_dttm          object\n",
       "finish_dttm          object\n",
       "dtype: object"
      ]
     },
     "execution_count": 8,
     "metadata": {},
     "output_type": "execute_result"
    }
   ],
   "source": [
    "task.dtypes"
   ]
  },
  {
   "cell_type": "code",
   "execution_count": 9,
   "id": "6f4807f7",
   "metadata": {},
   "outputs": [
    {
     "data": {
      "text/html": [
       "<div>\n",
       "<style scoped>\n",
       "    .dataframe tbody tr th:only-of-type {\n",
       "        vertical-align: middle;\n",
       "    }\n",
       "\n",
       "    .dataframe tbody tr th {\n",
       "        vertical-align: top;\n",
       "    }\n",
       "\n",
       "    .dataframe thead th {\n",
       "        text-align: right;\n",
       "    }\n",
       "</style>\n",
       "<table border=\"1\" class=\"dataframe\">\n",
       "  <thead>\n",
       "    <tr style=\"text-align: right;\">\n",
       "      <th></th>\n",
       "      <th>wo_hit_rk</th>\n",
       "      <th>wo_task_rk</th>\n",
       "      <th>wo_queue_id</th>\n",
       "      <th>agent_login</th>\n",
       "      <th>wo_employee_rk</th>\n",
       "      <th>finish_dttm</th>\n",
       "      <th>duratoin_sec</th>\n",
       "    </tr>\n",
       "  </thead>\n",
       "  <tbody>\n",
       "    <tr>\n",
       "      <th>0</th>\n",
       "      <td>73292106</td>\n",
       "      <td>93625442</td>\n",
       "      <td>12245</td>\n",
       "      <td>lyangama</td>\n",
       "      <td>66749466</td>\n",
       "      <td>2022-08-01 12:52:25</td>\n",
       "      <td>0.00</td>\n",
       "    </tr>\n",
       "    <tr>\n",
       "      <th>1</th>\n",
       "      <td>93763347</td>\n",
       "      <td>98572816</td>\n",
       "      <td>11696</td>\n",
       "      <td>enkoiion</td>\n",
       "      <td>88931008</td>\n",
       "      <td>2022-08-08 10:46:46</td>\n",
       "      <td>12.53</td>\n",
       "    </tr>\n",
       "    <tr>\n",
       "      <th>2</th>\n",
       "      <td>13988704</td>\n",
       "      <td>91292760</td>\n",
       "      <td>14354</td>\n",
       "      <td>kinalapo</td>\n",
       "      <td>61041016</td>\n",
       "      <td>2022-08-16 14:16:03</td>\n",
       "      <td>0.00</td>\n",
       "    </tr>\n",
       "  </tbody>\n",
       "</table>\n",
       "</div>"
      ],
      "text/plain": [
       "   wo_hit_rk  wo_task_rk  wo_queue_id agent_login  wo_employee_rk  \\\n",
       "0   73292106    93625442        12245    lyangama        66749466   \n",
       "1   93763347    98572816        11696    enkoiion        88931008   \n",
       "2   13988704    91292760        14354    kinalapo        61041016   \n",
       "\n",
       "           finish_dttm  duratoin_sec  \n",
       "0  2022-08-01 12:52:25          0.00  \n",
       "1  2022-08-08 10:46:46         12.53  \n",
       "2  2022-08-16 14:16:03          0.00  "
      ]
     },
     "execution_count": 9,
     "metadata": {},
     "output_type": "execute_result"
    }
   ],
   "source": [
    "call.head(3)"
   ]
  },
  {
   "cell_type": "code",
   "execution_count": 10,
   "id": "4902b81b",
   "metadata": {},
   "outputs": [
    {
     "data": {
      "text/html": [
       "<div>\n",
       "<style scoped>\n",
       "    .dataframe tbody tr th:only-of-type {\n",
       "        vertical-align: middle;\n",
       "    }\n",
       "\n",
       "    .dataframe tbody tr th {\n",
       "        vertical-align: top;\n",
       "    }\n",
       "\n",
       "    .dataframe thead th {\n",
       "        text-align: right;\n",
       "    }\n",
       "</style>\n",
       "<table border=\"1\" class=\"dataframe\">\n",
       "  <thead>\n",
       "    <tr style=\"text-align: right;\">\n",
       "      <th></th>\n",
       "      <th>hit_rk</th>\n",
       "      <th>hit_status_result_id</th>\n",
       "    </tr>\n",
       "  </thead>\n",
       "  <tbody>\n",
       "    <tr>\n",
       "      <th>0</th>\n",
       "      <td>3962005</td>\n",
       "      <td>2</td>\n",
       "    </tr>\n",
       "    <tr>\n",
       "      <th>1</th>\n",
       "      <td>71755300</td>\n",
       "      <td>5</td>\n",
       "    </tr>\n",
       "    <tr>\n",
       "      <th>2</th>\n",
       "      <td>38055819</td>\n",
       "      <td>5</td>\n",
       "    </tr>\n",
       "  </tbody>\n",
       "</table>\n",
       "</div>"
      ],
      "text/plain": [
       "     hit_rk  hit_status_result_id\n",
       "0   3962005                     2\n",
       "1  71755300                     5\n",
       "2  38055819                     5"
      ]
     },
     "execution_count": 10,
     "metadata": {},
     "output_type": "execute_result"
    }
   ],
   "source": [
    "action.head(3)"
   ]
  },
  {
   "cell_type": "code",
   "execution_count": 11,
   "id": "2957a47f",
   "metadata": {},
   "outputs": [
    {
     "data": {
      "text/html": [
       "<div>\n",
       "<style scoped>\n",
       "    .dataframe tbody tr th:only-of-type {\n",
       "        vertical-align: middle;\n",
       "    }\n",
       "\n",
       "    .dataframe tbody tr th {\n",
       "        vertical-align: top;\n",
       "    }\n",
       "\n",
       "    .dataframe thead th {\n",
       "        text-align: right;\n",
       "    }\n",
       "</style>\n",
       "<table border=\"1\" class=\"dataframe\">\n",
       "  <thead>\n",
       "    <tr style=\"text-align: right;\">\n",
       "      <th></th>\n",
       "      <th>hit_rk</th>\n",
       "      <th>hid</th>\n",
       "      <th>using_flg</th>\n",
       "    </tr>\n",
       "  </thead>\n",
       "  <tbody>\n",
       "    <tr>\n",
       "      <th>0</th>\n",
       "      <td>41296509</td>\n",
       "      <td>4</td>\n",
       "      <td>NaN</td>\n",
       "    </tr>\n",
       "    <tr>\n",
       "      <th>1</th>\n",
       "      <td>22805443</td>\n",
       "      <td>4</td>\n",
       "      <td>NaN</td>\n",
       "    </tr>\n",
       "    <tr>\n",
       "      <th>2</th>\n",
       "      <td>47418895</td>\n",
       "      <td>4</td>\n",
       "      <td>NaN</td>\n",
       "    </tr>\n",
       "  </tbody>\n",
       "</table>\n",
       "</div>"
      ],
      "text/plain": [
       "     hit_rk  hid  using_flg\n",
       "0  41296509    4        NaN\n",
       "1  22805443    4        NaN\n",
       "2  47418895    4        NaN"
      ]
     },
     "execution_count": 11,
     "metadata": {},
     "output_type": "execute_result"
    }
   ],
   "source": [
    "product.head(3)"
   ]
  },
  {
   "cell_type": "code",
   "execution_count": 12,
   "id": "d4bc4e15",
   "metadata": {},
   "outputs": [
    {
     "data": {
      "text/html": [
       "<div>\n",
       "<style scoped>\n",
       "    .dataframe tbody tr th:only-of-type {\n",
       "        vertical-align: middle;\n",
       "    }\n",
       "\n",
       "    .dataframe tbody tr th {\n",
       "        vertical-align: top;\n",
       "    }\n",
       "\n",
       "    .dataframe thead th {\n",
       "        text-align: right;\n",
       "    }\n",
       "</style>\n",
       "<table border=\"1\" class=\"dataframe\">\n",
       "  <thead>\n",
       "    <tr style=\"text-align: right;\">\n",
       "      <th></th>\n",
       "      <th>employee_rk</th>\n",
       "      <th>org_group_rk</th>\n",
       "    </tr>\n",
       "  </thead>\n",
       "  <tbody>\n",
       "    <tr>\n",
       "      <th>0</th>\n",
       "      <td>77291037</td>\n",
       "      <td>3240</td>\n",
       "    </tr>\n",
       "    <tr>\n",
       "      <th>1</th>\n",
       "      <td>70909770</td>\n",
       "      <td>2108</td>\n",
       "    </tr>\n",
       "    <tr>\n",
       "      <th>2</th>\n",
       "      <td>73448373</td>\n",
       "      <td>3237</td>\n",
       "    </tr>\n",
       "  </tbody>\n",
       "</table>\n",
       "</div>"
      ],
      "text/plain": [
       "   employee_rk  org_group_rk\n",
       "0     77291037          3240\n",
       "1     70909770          2108\n",
       "2     73448373          3237"
      ]
     },
     "execution_count": 12,
     "metadata": {},
     "output_type": "execute_result"
    }
   ],
   "source": [
    "emp_x_org_gr.head(3)"
   ]
  },
  {
   "cell_type": "code",
   "execution_count": 13,
   "id": "560b1220",
   "metadata": {},
   "outputs": [
    {
     "data": {
      "text/html": [
       "<div>\n",
       "<style scoped>\n",
       "    .dataframe tbody tr th:only-of-type {\n",
       "        vertical-align: middle;\n",
       "    }\n",
       "\n",
       "    .dataframe tbody tr th {\n",
       "        vertical-align: top;\n",
       "    }\n",
       "\n",
       "    .dataframe thead th {\n",
       "        text-align: right;\n",
       "    }\n",
       "</style>\n",
       "<table border=\"1\" class=\"dataframe\">\n",
       "  <thead>\n",
       "    <tr style=\"text-align: right;\">\n",
       "      <th></th>\n",
       "      <th>hit_status_result_id</th>\n",
       "      <th>hit_status_result_desc</th>\n",
       "    </tr>\n",
       "  </thead>\n",
       "  <tbody>\n",
       "    <tr>\n",
       "      <th>0</th>\n",
       "      <td>8</td>\n",
       "      <td>Дозвон, Некорректное задание по звонку</td>\n",
       "    </tr>\n",
       "    <tr>\n",
       "      <th>1</th>\n",
       "      <td>1</td>\n",
       "      <td>Дозвон, Отказ</td>\n",
       "    </tr>\n",
       "    <tr>\n",
       "      <th>2</th>\n",
       "      <td>6</td>\n",
       "      <td>Дозвон, Отложить</td>\n",
       "    </tr>\n",
       "  </tbody>\n",
       "</table>\n",
       "</div>"
      ],
      "text/plain": [
       "   hit_status_result_id                  hit_status_result_desc\n",
       "0                     8  Дозвон, Некорректное задание по звонку\n",
       "1                     1                           Дозвон, Отказ\n",
       "2                     6                        Дозвон, Отложить"
      ]
     },
     "execution_count": 13,
     "metadata": {},
     "output_type": "execute_result"
    }
   ],
   "source": [
    "result.head(3)"
   ]
  },
  {
   "cell_type": "code",
   "execution_count": 14,
   "id": "49b05f05",
   "metadata": {},
   "outputs": [
    {
     "data": {
      "text/html": [
       "<div>\n",
       "<style scoped>\n",
       "    .dataframe tbody tr th:only-of-type {\n",
       "        vertical-align: middle;\n",
       "    }\n",
       "\n",
       "    .dataframe tbody tr th {\n",
       "        vertical-align: top;\n",
       "    }\n",
       "\n",
       "    .dataframe thead th {\n",
       "        text-align: right;\n",
       "    }\n",
       "</style>\n",
       "<table border=\"1\" class=\"dataframe\">\n",
       "  <thead>\n",
       "    <tr style=\"text-align: right;\">\n",
       "      <th></th>\n",
       "      <th>queue_id</th>\n",
       "      <th>queue_desc</th>\n",
       "    </tr>\n",
       "  </thead>\n",
       "  <tbody>\n",
       "    <tr>\n",
       "      <th>0</th>\n",
       "      <td>12049</td>\n",
       "      <td>Очередь 86</td>\n",
       "    </tr>\n",
       "    <tr>\n",
       "      <th>1</th>\n",
       "      <td>13677</td>\n",
       "      <td>Очередь 57</td>\n",
       "    </tr>\n",
       "    <tr>\n",
       "      <th>2</th>\n",
       "      <td>13041</td>\n",
       "      <td>Очередь 146</td>\n",
       "    </tr>\n",
       "  </tbody>\n",
       "</table>\n",
       "</div>"
      ],
      "text/plain": [
       "   queue_id   queue_desc\n",
       "0     12049   Очередь 86\n",
       "1     13677   Очередь 57\n",
       "2     13041  Очередь 146"
      ]
     },
     "execution_count": 14,
     "metadata": {},
     "output_type": "execute_result"
    }
   ],
   "source": [
    "queue.head(3)"
   ]
  },
  {
   "cell_type": "code",
   "execution_count": 15,
   "id": "ff649b07",
   "metadata": {},
   "outputs": [
    {
     "data": {
      "text/html": [
       "<div>\n",
       "<style scoped>\n",
       "    .dataframe tbody tr th:only-of-type {\n",
       "        vertical-align: middle;\n",
       "    }\n",
       "\n",
       "    .dataframe tbody tr th {\n",
       "        vertical-align: top;\n",
       "    }\n",
       "\n",
       "    .dataframe thead th {\n",
       "        text-align: right;\n",
       "    }\n",
       "</style>\n",
       "<table border=\"1\" class=\"dataframe\">\n",
       "  <thead>\n",
       "    <tr style=\"text-align: right;\">\n",
       "      <th></th>\n",
       "      <th>org_group_rk</th>\n",
       "      <th>org_management_rk</th>\n",
       "      <th>group_nm</th>\n",
       "    </tr>\n",
       "  </thead>\n",
       "  <tbody>\n",
       "    <tr>\n",
       "      <th>0</th>\n",
       "      <td>2351</td>\n",
       "      <td>1636</td>\n",
       "      <td>Группа 1</td>\n",
       "    </tr>\n",
       "    <tr>\n",
       "      <th>1</th>\n",
       "      <td>2814</td>\n",
       "      <td>1780</td>\n",
       "      <td>Группа 2</td>\n",
       "    </tr>\n",
       "    <tr>\n",
       "      <th>2</th>\n",
       "      <td>2531</td>\n",
       "      <td>1720</td>\n",
       "      <td>Группа 3</td>\n",
       "    </tr>\n",
       "  </tbody>\n",
       "</table>\n",
       "</div>"
      ],
      "text/plain": [
       "   org_group_rk  org_management_rk  group_nm\n",
       "0          2351               1636  Группа 1\n",
       "1          2814               1780  Группа 2\n",
       "2          2531               1720  Группа 3"
      ]
     },
     "execution_count": 15,
     "metadata": {},
     "output_type": "execute_result"
    }
   ],
   "source": [
    "group.head(3)"
   ]
  },
  {
   "cell_type": "code",
   "execution_count": 16,
   "id": "2811c6ac",
   "metadata": {},
   "outputs": [
    {
     "data": {
      "text/html": [
       "<div>\n",
       "<style scoped>\n",
       "    .dataframe tbody tr th:only-of-type {\n",
       "        vertical-align: middle;\n",
       "    }\n",
       "\n",
       "    .dataframe tbody tr th {\n",
       "        vertical-align: top;\n",
       "    }\n",
       "\n",
       "    .dataframe thead th {\n",
       "        text-align: right;\n",
       "    }\n",
       "</style>\n",
       "<table border=\"1\" class=\"dataframe\">\n",
       "  <thead>\n",
       "    <tr style=\"text-align: right;\">\n",
       "      <th></th>\n",
       "      <th>org_management_rk</th>\n",
       "      <th>management_nm</th>\n",
       "    </tr>\n",
       "  </thead>\n",
       "  <tbody>\n",
       "    <tr>\n",
       "      <th>0</th>\n",
       "      <td>401</td>\n",
       "      <td>Управление КЦ Дирис</td>\n",
       "    </tr>\n",
       "    <tr>\n",
       "      <th>1</th>\n",
       "      <td>307</td>\n",
       "      <td>Управление КЦ Черс</td>\n",
       "    </tr>\n",
       "    <tr>\n",
       "      <th>2</th>\n",
       "      <td>1834</td>\n",
       "      <td>Управление КЦ Помидор</td>\n",
       "    </tr>\n",
       "  </tbody>\n",
       "</table>\n",
       "</div>"
      ],
      "text/plain": [
       "   org_management_rk          management_nm\n",
       "0                401    Управление КЦ Дирис\n",
       "1                307     Управление КЦ Черс\n",
       "2               1834  Управление КЦ Помидор"
      ]
     },
     "execution_count": 16,
     "metadata": {},
     "output_type": "execute_result"
    }
   ],
   "source": [
    "mngmnt.head(3)"
   ]
  },
  {
   "cell_type": "code",
   "execution_count": 17,
   "id": "80315960",
   "metadata": {},
   "outputs": [
    {
     "data": {
      "text/html": [
       "<div>\n",
       "<style scoped>\n",
       "    .dataframe tbody tr th:only-of-type {\n",
       "        vertical-align: middle;\n",
       "    }\n",
       "\n",
       "    .dataframe tbody tr th {\n",
       "        vertical-align: top;\n",
       "    }\n",
       "\n",
       "    .dataframe thead th {\n",
       "        text-align: right;\n",
       "    }\n",
       "</style>\n",
       "<table border=\"1\" class=\"dataframe\">\n",
       "  <thead>\n",
       "    <tr style=\"text-align: right;\">\n",
       "      <th></th>\n",
       "      <th>agent_login</th>\n",
       "      <th>horoscope</th>\n",
       "    </tr>\n",
       "  </thead>\n",
       "  <tbody>\n",
       "    <tr>\n",
       "      <th>0</th>\n",
       "      <td>lyangama</td>\n",
       "      <td>Козерог</td>\n",
       "    </tr>\n",
       "    <tr>\n",
       "      <th>1</th>\n",
       "      <td>enkoiion</td>\n",
       "      <td>Козерог</td>\n",
       "    </tr>\n",
       "    <tr>\n",
       "      <th>2</th>\n",
       "      <td>kinalapo</td>\n",
       "      <td>Козерог</td>\n",
       "    </tr>\n",
       "  </tbody>\n",
       "</table>\n",
       "</div>"
      ],
      "text/plain": [
       "  agent_login horoscope\n",
       "0    lyangama   Козерог\n",
       "1    enkoiion   Козерог\n",
       "2    kinalapo   Козерог"
      ]
     },
     "execution_count": 17,
     "metadata": {},
     "output_type": "execute_result"
    }
   ],
   "source": [
    "horoscope.head(3)"
   ]
  },
  {
   "cell_type": "markdown",
   "id": "0e3a61e4",
   "metadata": {},
   "source": [
    "### Выгрузка / загрузка"
   ]
  },
  {
   "cell_type": "markdown",
   "id": "acfe56c6",
   "metadata": {},
   "source": [
    "Для создания требуемого запроса и его отработки я буду пользоваться PostgeSQL. Поэтотому все полученные таблицы я выгружаю в csv для последующего импорта в PostgeSQL. Можно, конечно на прямую загрузить датафреймы в таблицы, но не хочется возиться с типами данных."
   ]
  },
  {
   "cell_type": "code",
   "execution_count": 18,
   "id": "61972251",
   "metadata": {},
   "outputs": [],
   "source": [
    "task.to_csv('task.csv', index=False, sep='$', encoding='cp1251')\n",
    "call.to_csv('call.csv', index=False, sep='$', encoding='cp1251')\n",
    "action.to_csv('action.csv', index=False, sep='$', encoding='cp1251')\n",
    "product.to_csv('product.csv', index=False, sep='$', encoding='cp1251')\n",
    "emp_x_org_gr.to_csv('emp_x_org_gr.csv', index=False, sep='$', encoding='cp1251')\n",
    "result.to_csv('result.csv', index=False, sep='$', encoding='cp1251')\n",
    "queue.to_csv('queue.csv', index=False, sep='$', encoding='cp1251')\n",
    "group.to_csv('group.csv', index=False, sep='$', encoding='cp1251')\n",
    "mngmnt.to_csv('mngmnt.csv', index=False, sep='$', encoding='cp1251')\n",
    "horoscope.to_csv('horoscope.csv', index=False, sep='$', encoding='cp1251')"
   ]
  },
  {
   "cell_type": "markdown",
   "id": "255548b3",
   "metadata": {},
   "source": [
    "### Создание таблиц"
   ]
  },
  {
   "cell_type": "markdown",
   "id": "97355f24",
   "metadata": {},
   "source": [
    "Подключение"
   ]
  },
  {
   "cell_type": "code",
   "execution_count": 19,
   "id": "9f05f5cd",
   "metadata": {},
   "outputs": [],
   "source": [
    "# подключение\n",
    "conn = psycopg2.connect(\"dbname=Allada user=postgres password=5498130\")"
   ]
  },
  {
   "cell_type": "markdown",
   "id": "7fbb595c",
   "metadata": {},
   "source": [
    "Создание таблиц"
   ]
  },
  {
   "cell_type": "code",
   "execution_count": 20,
   "id": "4729f24b",
   "metadata": {},
   "outputs": [],
   "source": [
    "cur = conn.cursor()\n",
    "cur.execute('''\n",
    "    DROP TABLE IF EXISTS task;\n",
    "    CREATE TABLE task (\n",
    "        task_rk VARCHAR,\n",
    "        task_stage_id VARCHAR,\n",
    "        source_system_cd VARCHAR,\n",
    "        create_dttm VARCHAR,\n",
    "        finish_dttm VARCHAR\n",
    "    );\n",
    "\n",
    "    DROP TABLE IF EXISTS call;\n",
    "    CREATE TABLE call (\n",
    "        wo_hit_rk VARCHAR,\n",
    "        wo_task_rk VARCHAR,\n",
    "        wo_queue_id VARCHAR,\n",
    "        agent_login VARCHAR,\n",
    "        wo_employee_rk VARCHAR,\n",
    "        finish_dttm VARCHAR,\n",
    "        duration_sec VARCHAR\n",
    "    );\n",
    "\n",
    "    DROP TABLE IF EXISTS action;\n",
    "    CREATE TABLE action(\n",
    "        hit_rk VARCHAR,\n",
    "        hit_status_result_id VARCHAR\n",
    "    );\n",
    "\n",
    "    DROP TABLE IF EXISTS product;\n",
    "    CREATE TABLE product (\n",
    "        hit_rk VARCHAR,\n",
    "        hid VARCHAR,\n",
    "        using_flg VARCHAR\n",
    "    );\n",
    "\n",
    "    DROP TABLE IF EXISTS emp_x_org_gr;\n",
    "    CREATE TABLE emp_x_org_gr (\n",
    "        employee_rk VARCHAR,\n",
    "        org_group_rk VARCHAR\n",
    "    );\n",
    "\n",
    "    DROP TABLE IF EXISTS result;\n",
    "    CREATE TABLE result  (\n",
    "        hit_status_result_id VARCHAR,\n",
    "        hit_status_result_desc VARCHAR\n",
    "    );\n",
    "\n",
    "    DROP TABLE IF EXISTS queue;\n",
    "    CREATE TABLE queue (\n",
    "        queue_id VARCHAR,\n",
    "        queue_desc VARCHAR\n",
    "    );\n",
    "\n",
    "    DROP TABLE IF EXISTS \"group\";\n",
    "    CREATE TABLE \"group\" (\n",
    "        org_group_rk VARCHAR,\n",
    "        org_management_rk VARCHAR,\n",
    "        group_nm VARCHAR\n",
    "    );\n",
    "\n",
    "    DROP TABLE IF EXISTS mngmnt;\n",
    "    CREATE TABLE mngmnt (\n",
    "        org_management_rk VARCHAR,\n",
    "        management_nm VARCHAR\n",
    "    );\n",
    "\n",
    "\n",
    "    DROP TABLE IF EXISTS horoscope;\n",
    "    CREATE TABLE horoscope (\n",
    "        agent_login VARCHAR,\n",
    "        horoscope VARCHAR\n",
    "    );\n",
    "''')\n",
    "conn.commit()"
   ]
  },
  {
   "cell_type": "markdown",
   "id": "063bbde7",
   "metadata": {},
   "source": [
    "Загрузка данных в таблицы"
   ]
  },
  {
   "cell_type": "code",
   "execution_count": 21,
   "id": "f5398a02",
   "metadata": {},
   "outputs": [],
   "source": [
    "files = {\n",
    "    'task': 'task.csv',\n",
    "    'call': 'call.csv',\n",
    "    'action': 'action.csv',\n",
    "    'product': 'product.csv',\n",
    "    'emp_x_org_gr': 'emp_x_org_gr.csv',\n",
    "    'result': 'result.csv',\n",
    "    'queue': 'queue.csv',\n",
    "    'group': 'group.csv',\n",
    "    'mngmnt': 'mngmnt.csv',\n",
    "    'horoscope': 'horoscope.csv'\n",
    "}\n",
    "\n",
    "for table, file_path in files.items():\n",
    "    with open(file_path, 'r') as f:\n",
    "        next(f)  # Пропустить заголовок\n",
    "        cur.copy_from(f, table, sep='$')    \n",
    "\n",
    "# commit изменений и закрытие курсора\n",
    "conn.commit()\n",
    "cur.close()"
   ]
  },
  {
   "cell_type": "markdown",
   "id": "e91c4f46",
   "metadata": {},
   "source": [
    "функция получения курсора"
   ]
  },
  {
   "cell_type": "code",
   "execution_count": 22,
   "id": "f367f1a2",
   "metadata": {},
   "outputs": [],
   "source": [
    "# если вызвать с параметром 0 то придет список картежей\n",
    "# если ниче не писать то датафрейм\n",
    "def select(cunn, sql, df=1):\n",
    "    cur = conn.cursor()  # получение курсора\n",
    "    cur.execute(sql)\n",
    "    res = cur.fetchall()\n",
    "    if df == 1:\n",
    "        columns = [desc[0] for desc in cur.description]\n",
    "        res = pd.DataFrame(res, columns=columns)\n",
    "    cur.close() # закрытие курсора\n",
    "    conn.commit()\n",
    "    return res"
   ]
  },
  {
   "cell_type": "markdown",
   "id": "617a0904",
   "metadata": {},
   "source": [
    "Проверяем"
   ]
  },
  {
   "cell_type": "code",
   "execution_count": 23,
   "id": "01127f7d",
   "metadata": {},
   "outputs": [],
   "source": [
    "sql = '''select * from result limit 3'''"
   ]
  },
  {
   "cell_type": "code",
   "execution_count": 24,
   "id": "6ec15ea0",
   "metadata": {},
   "outputs": [
    {
     "data": {
      "text/html": [
       "<div>\n",
       "<style scoped>\n",
       "    .dataframe tbody tr th:only-of-type {\n",
       "        vertical-align: middle;\n",
       "    }\n",
       "\n",
       "    .dataframe tbody tr th {\n",
       "        vertical-align: top;\n",
       "    }\n",
       "\n",
       "    .dataframe thead th {\n",
       "        text-align: right;\n",
       "    }\n",
       "</style>\n",
       "<table border=\"1\" class=\"dataframe\">\n",
       "  <thead>\n",
       "    <tr style=\"text-align: right;\">\n",
       "      <th></th>\n",
       "      <th>hit_status_result_id</th>\n",
       "      <th>hit_status_result_desc</th>\n",
       "    </tr>\n",
       "  </thead>\n",
       "  <tbody>\n",
       "    <tr>\n",
       "      <th>0</th>\n",
       "      <td>8</td>\n",
       "      <td>Дозвон, Некорректное задание по звонку</td>\n",
       "    </tr>\n",
       "    <tr>\n",
       "      <th>1</th>\n",
       "      <td>1</td>\n",
       "      <td>Дозвон, Отказ</td>\n",
       "    </tr>\n",
       "    <tr>\n",
       "      <th>2</th>\n",
       "      <td>6</td>\n",
       "      <td>Дозвон, Отложить</td>\n",
       "    </tr>\n",
       "  </tbody>\n",
       "</table>\n",
       "</div>"
      ],
      "text/plain": [
       "  hit_status_result_id                  hit_status_result_desc\n",
       "0                    8  Дозвон, Некорректное задание по звонку\n",
       "1                    1                           Дозвон, Отказ\n",
       "2                    6                        Дозвон, Отложить"
      ]
     },
     "execution_count": 24,
     "metadata": {},
     "output_type": "execute_result"
    }
   ],
   "source": [
    "select(conn, sql)"
   ]
  },
  {
   "cell_type": "markdown",
   "id": "974889fc",
   "metadata": {},
   "source": [
    "### Запрос влючающий в себя все поля всех витрин"
   ]
  },
  {
   "cell_type": "code",
   "execution_count": 25,
   "id": "20341e9f",
   "metadata": {},
   "outputs": [],
   "source": [
    "sql = '''\n",
    "SELECT *\n",
    "FROM call\n",
    "LEFT JOIN task ON call.wo_task_rk = task.task_rk\n",
    "LEFT JOIN action ON call.wo_hit_rk = action.hit_rk\n",
    "LEFT JOIN product ON call.wo_hit_rk = product.hit_rk\n",
    "LEFT JOIN emp_x_org_gr ON call.wo_employee_rk = emp_x_org_gr.employee_rk\n",
    "LEFT JOIN result ON action.hit_status_result_id = result.hit_status_result_id\n",
    "LEFT JOIN queue ON call.wo_queue_id = queue.queue_id\n",
    "LEFT JOIN \"group\" AS g ON emp_x_org_gr.org_group_rk = g.org_group_rk\n",
    "LEFT JOIN mngmnt ON g.org_management_rk = mngmnt.org_management_rk\n",
    "LEFT JOIN horoscope ON call.agent_login = horoscope.agent_login\n",
    "'''"
   ]
  },
  {
   "cell_type": "markdown",
   "id": "062e4392",
   "metadata": {},
   "source": [
    "Запишем данныев датафрейм"
   ]
  },
  {
   "cell_type": "code",
   "execution_count": 26,
   "id": "724b61a2",
   "metadata": {},
   "outputs": [],
   "source": [
    "big_df = select(conn, sql)"
   ]
  },
  {
   "cell_type": "code",
   "execution_count": 27,
   "id": "0bc968a2",
   "metadata": {},
   "outputs": [],
   "source": [
    "# закрываем соединение\n",
    "conn.close()"
   ]
  },
  {
   "cell_type": "code",
   "execution_count": 28,
   "id": "ed5af69a",
   "metadata": {},
   "outputs": [
    {
     "data": {
      "text/html": [
       "<div>\n",
       "<style scoped>\n",
       "    .dataframe tbody tr th:only-of-type {\n",
       "        vertical-align: middle;\n",
       "    }\n",
       "\n",
       "    .dataframe tbody tr th {\n",
       "        vertical-align: top;\n",
       "    }\n",
       "\n",
       "    .dataframe thead th {\n",
       "        text-align: right;\n",
       "    }\n",
       "</style>\n",
       "<table border=\"1\" class=\"dataframe\">\n",
       "  <thead>\n",
       "    <tr style=\"text-align: right;\">\n",
       "      <th></th>\n",
       "      <th>wo_hit_rk</th>\n",
       "      <th>wo_task_rk</th>\n",
       "      <th>wo_queue_id</th>\n",
       "      <th>agent_login</th>\n",
       "      <th>wo_employee_rk</th>\n",
       "      <th>finish_dttm</th>\n",
       "      <th>duration_sec</th>\n",
       "      <th>task_rk</th>\n",
       "      <th>task_stage_id</th>\n",
       "      <th>source_system_cd</th>\n",
       "      <th>...</th>\n",
       "      <th>hit_status_result_desc</th>\n",
       "      <th>queue_id</th>\n",
       "      <th>queue_desc</th>\n",
       "      <th>org_group_rk</th>\n",
       "      <th>org_management_rk</th>\n",
       "      <th>group_nm</th>\n",
       "      <th>org_management_rk</th>\n",
       "      <th>management_nm</th>\n",
       "      <th>agent_login</th>\n",
       "      <th>horoscope</th>\n",
       "    </tr>\n",
       "  </thead>\n",
       "  <tbody>\n",
       "    <tr>\n",
       "      <th>0</th>\n",
       "      <td>10001402</td>\n",
       "      <td>95516722</td>\n",
       "      <td>14642</td>\n",
       "      <td>alovmmma</td>\n",
       "      <td>44341014</td>\n",
       "      <td>2022-08-15 15:52:33</td>\n",
       "      <td>160.63</td>\n",
       "      <td>95516722</td>\n",
       "      <td>1.0</td>\n",
       "      <td>GI</td>\n",
       "      <td>...</td>\n",
       "      <td>Дозвон, Перезвонить</td>\n",
       "      <td>14642</td>\n",
       "      <td>Очередь 50</td>\n",
       "      <td>378</td>\n",
       "      <td>415</td>\n",
       "      <td>Группа 41</td>\n",
       "      <td>415</td>\n",
       "      <td>Управление КЦ Парис</td>\n",
       "      <td>alovmmma</td>\n",
       "      <td>Водолей</td>\n",
       "    </tr>\n",
       "    <tr>\n",
       "      <th>1</th>\n",
       "      <td>10002397</td>\n",
       "      <td>5589411</td>\n",
       "      <td>4081</td>\n",
       "      <td>6446kmmi</td>\n",
       "      <td>95651109</td>\n",
       "      <td>2022-08-15 10:29:33</td>\n",
       "      <td>0.0</td>\n",
       "      <td>5589411</td>\n",
       "      <td>1.0</td>\n",
       "      <td>GI</td>\n",
       "      <td>...</td>\n",
       "      <td>Недозвон</td>\n",
       "      <td>4081</td>\n",
       "      <td>Очередь 78</td>\n",
       "      <td>3240</td>\n",
       "      <td>1621</td>\n",
       "      <td>Группа 36</td>\n",
       "      <td>1621</td>\n",
       "      <td>Управление КЦ Чизан</td>\n",
       "      <td>6446kmmi</td>\n",
       "      <td>Овен</td>\n",
       "    </tr>\n",
       "    <tr>\n",
       "      <th>2</th>\n",
       "      <td>10002617</td>\n",
       "      <td>98250515</td>\n",
       "      <td>14644</td>\n",
       "      <td>zovaiaoz</td>\n",
       "      <td>14809914</td>\n",
       "      <td>2022-08-15 16:19:44</td>\n",
       "      <td>0.0</td>\n",
       "      <td>98250515</td>\n",
       "      <td>1.0</td>\n",
       "      <td>GI</td>\n",
       "      <td>...</td>\n",
       "      <td>Недозвон</td>\n",
       "      <td>14644</td>\n",
       "      <td>Очередь 119</td>\n",
       "      <td>2531</td>\n",
       "      <td>1720</td>\n",
       "      <td>Группа 3</td>\n",
       "      <td>1720</td>\n",
       "      <td>Управление КЦ Кирис</td>\n",
       "      <td>zovaiaoz</td>\n",
       "      <td>Лев</td>\n",
       "    </tr>\n",
       "  </tbody>\n",
       "</table>\n",
       "<p>3 rows × 30 columns</p>\n",
       "</div>"
      ],
      "text/plain": [
       "  wo_hit_rk wo_task_rk wo_queue_id agent_login wo_employee_rk  \\\n",
       "0  10001402   95516722       14642    alovmmma       44341014   \n",
       "1  10002397    5589411        4081    6446kmmi       95651109   \n",
       "2  10002617   98250515       14644    zovaiaoz       14809914   \n",
       "\n",
       "           finish_dttm duration_sec   task_rk task_stage_id source_system_cd  \\\n",
       "0  2022-08-15 15:52:33       160.63  95516722           1.0               GI   \n",
       "1  2022-08-15 10:29:33          0.0   5589411           1.0               GI   \n",
       "2  2022-08-15 16:19:44          0.0  98250515           1.0               GI   \n",
       "\n",
       "   ... hit_status_result_desc queue_id   queue_desc org_group_rk  \\\n",
       "0  ...    Дозвон, Перезвонить    14642   Очередь 50          378   \n",
       "1  ...               Недозвон     4081   Очередь 78         3240   \n",
       "2  ...               Недозвон    14644  Очередь 119         2531   \n",
       "\n",
       "  org_management_rk   group_nm org_management_rk        management_nm  \\\n",
       "0               415  Группа 41               415  Управление КЦ Парис   \n",
       "1              1621  Группа 36              1621  Управление КЦ Чизан   \n",
       "2              1720   Группа 3              1720  Управление КЦ Кирис   \n",
       "\n",
       "  agent_login horoscope  \n",
       "0    alovmmma   Водолей  \n",
       "1    6446kmmi      Овен  \n",
       "2    zovaiaoz       Лев  \n",
       "\n",
       "[3 rows x 30 columns]"
      ]
     },
     "execution_count": 28,
     "metadata": {},
     "output_type": "execute_result"
    }
   ],
   "source": [
    "big_df.head(3)"
   ]
  },
  {
   "cell_type": "markdown",
   "id": "46e3cdc6",
   "metadata": {},
   "source": [
    "## Задание 2"
   ]
  },
  {
   "cell_type": "markdown",
   "id": "56d9cd32",
   "metadata": {},
   "source": [
    "Необходимо посчитать следующие значения:\n",
    "1.\tОбщее количество звонков со статусом «Дозвон, Успешно»\n",
    "2.\tПродажная конверсия. Ответ округлить до двух знаков после запятой.\n",
    "   <br> a.\tПродажная конверсия, % = Звонки со статусов «Дозвон, Успешно»/(Звонки со статусом «Дозвон, Успешно» + «Дозвон, Отказ)\n",
    "3.\tСредняя длительность одной коммуникации, закрытой статусом «Дозвон, Успешно». Ответ предоставить в секундах, округлить до двух знаков после запятой.\n"
   ]
  },
  {
   "cell_type": "markdown",
   "id": "11b85b7e",
   "metadata": {},
   "source": [
    "### Общее количество звонков со статусом «Дозвон, Успешно»"
   ]
  },
  {
   "cell_type": "code",
   "execution_count": 29,
   "id": "8b656775",
   "metadata": {},
   "outputs": [
    {
     "name": "stdout",
     "output_type": "stream",
     "text": [
      "Общее количество звонков со статусом 'Дозвон, Успешно': 3310\n"
     ]
    }
   ],
   "source": [
    "total_sum = len(big_df[big_df['hit_status_result_desc'] == 'Дозвон, Успешно'])\n",
    "\n",
    "print(f\"Общее количество звонков со статусом 'Дозвон, Успешно': {total_sum}\")"
   ]
  },
  {
   "cell_type": "markdown",
   "id": "dfc533fa",
   "metadata": {},
   "source": [
    "### Продажная конверсия"
   ]
  },
  {
   "cell_type": "markdown",
   "id": "2e5cf124",
   "metadata": {},
   "source": [
    "Расчет конверсии предпологается по формуле:\n",
    " $$ Конверсия = \\frac{N_{Дозвон, Успешно}}{N_{Дозвон, Успешно} + N_{Дозвон, Отказ}}$$"
   ]
  },
  {
   "cell_type": "code",
   "execution_count": 30,
   "id": "52274cb5",
   "metadata": {},
   "outputs": [
    {
     "name": "stdout",
     "output_type": "stream",
     "text": [
      "Общее количество звонков со статусом 'Дозвон, Отказ': 18459\n"
     ]
    }
   ],
   "source": [
    "call_fail = len(big_df[big_df['hit_status_result_desc'] == 'Дозвон, Отказ'])\n",
    "print(f\"Общее количество звонков со статусом 'Дозвон, Отказ': {call_fail}\")"
   ]
  },
  {
   "cell_type": "markdown",
   "id": "47e23c1b",
   "metadata": {},
   "source": [
    "<b>Итого:</b>"
   ]
  },
  {
   "cell_type": "markdown",
   "id": "2adccc8a",
   "metadata": {},
   "source": [
    "$$\n",
    "N_{Дозвон, Успешно} = 3310\n",
    "$$"
   ]
  },
  {
   "cell_type": "markdown",
   "id": "4ca4dc95",
   "metadata": {},
   "source": [
    "$$\n",
    "N_{Дозвон, Отказ} = 18459\n",
    "$$"
   ]
  },
  {
   "cell_type": "code",
   "execution_count": 31,
   "id": "79762598",
   "metadata": {},
   "outputs": [
    {
     "data": {
      "text/plain": [
       "3310"
      ]
     },
     "execution_count": 31,
     "metadata": {},
     "output_type": "execute_result"
    }
   ],
   "source": [
    "round(total_sum, 2)"
   ]
  },
  {
   "cell_type": "code",
   "execution_count": 32,
   "id": "492cc7e1",
   "metadata": {},
   "outputs": [
    {
     "data": {
      "text/plain": [
       "0.15"
      ]
     },
     "execution_count": 32,
     "metadata": {},
     "output_type": "execute_result"
    }
   ],
   "source": [
    "round(total_sum/(total_sum + call_fail), 2)"
   ]
  },
  {
   "cell_type": "markdown",
   "id": "84418046",
   "metadata": {},
   "source": [
    "$$ \n",
    "Конверсия = 0,15\n",
    "$$"
   ]
  },
  {
   "cell_type": "markdown",
   "id": "94ae7dc5",
   "metadata": {},
   "source": [
    "### Средняя длительность одной коммуникации, закрытой статусом «Дозвон, Успешно»"
   ]
  },
  {
   "cell_type": "code",
   "execution_count": 33,
   "id": "d908a423",
   "metadata": {},
   "outputs": [
    {
     "data": {
      "text/plain": [
       "duration_sec    object\n",
       "dtype: object"
      ]
     },
     "execution_count": 33,
     "metadata": {},
     "output_type": "execute_result"
    }
   ],
   "source": [
    "big_df[['duration_sec']].dtypes"
   ]
  },
  {
   "cell_type": "markdown",
   "id": "a5607eeb",
   "metadata": {},
   "source": [
    "Необходимо поменять тип данных поля 'duration_sec' с object на float"
   ]
  },
  {
   "cell_type": "code",
   "execution_count": 34,
   "id": "13119228",
   "metadata": {},
   "outputs": [],
   "source": [
    "big_df['duration_sec'] = big_df['duration_sec'].astype(float)"
   ]
  },
  {
   "cell_type": "code",
   "execution_count": 35,
   "id": "9844519e",
   "metadata": {},
   "outputs": [
    {
     "data": {
      "text/plain": [
       "duration_sec    float64\n",
       "dtype: object"
      ]
     },
     "execution_count": 35,
     "metadata": {},
     "output_type": "execute_result"
    }
   ],
   "source": [
    "big_df[['duration_sec']].dtypes"
   ]
  },
  {
   "cell_type": "code",
   "execution_count": 36,
   "id": "28ccf6ee",
   "metadata": {},
   "outputs": [
    {
     "name": "stdout",
     "output_type": "stream",
     "text": [
      "Средняя длительность коммуникации закрытой статусом «Дозвон, Успешно»: 110.18 секунд\n"
     ]
    }
   ],
   "source": [
    "mean_duration = big_df[big_df['hit_status_result_desc'] == 'Дозвон, Успешно']['duration_sec'].mean()\n",
    "print(\"Средняя длительность коммуникации закрытой статусом «Дозвон, Успешно»:\", round(mean_duration, 2), \"секунд\")"
   ]
  },
  {
   "cell_type": "code",
   "execution_count": 85,
   "id": "8bc1f4e3",
   "metadata": {},
   "outputs": [
    {
     "name": "stdout",
     "output_type": "stream",
     "text": [
      "Средняя длительность коммуникации закрытой статусом «Дозвон, Успешно»: 110.18 секунд\n"
     ]
    }
   ],
   "source": [
    "mean_duration = df[df['hit_status_result_desc'] == 'Дозвон, Успешно']['duration_sec'].mean()\n",
    "print(\"Средняя длительность коммуникации закрытой статусом «Дозвон, Успешно»:\", round(mean_duration, 2), \"секунд\")"
   ]
  },
  {
   "cell_type": "code",
   "execution_count": 88,
   "id": "4377b91e",
   "metadata": {
    "scrolled": true
   },
   "outputs": [
    {
     "name": "stdout",
     "output_type": "stream",
     "text": [
      "Средняя длительность коммуникации закрытой статусом «Дозвон, Успешно», без учета анамальных значений: 107.71 секунд\n"
     ]
    }
   ],
   "source": [
    "mean_duration2 = df[(df['agent_login'] != '0212legr') & \n",
    "                            (df['hit_status_result_desc'] == 'Дозвон, Успешно')]['duration_sec'].mean()\n",
    "print(\"Средняя длительность коммуникации закрытой статусом «Дозвон, Успешно», без учета анамальных значений:\", \n",
    "      round(mean_duration2, 2), \"секунд\")"
   ]
  },
  {
   "cell_type": "code",
   "execution_count": 40,
   "id": "0665d171",
   "metadata": {},
   "outputs": [],
   "source": [
    "# 110.18 секунд"
   ]
  },
  {
   "cell_type": "markdown",
   "id": "2fee030c",
   "metadata": {},
   "source": [
    "## Анализ  базы данных "
   ]
  },
  {
   "cell_type": "markdown",
   "id": "1553d25b",
   "metadata": {},
   "source": [
    "Для этого задания необходимо выгрузить данные предворительно убрав лишние поля"
   ]
  },
  {
   "cell_type": "code",
   "execution_count": 37,
   "id": "54748b33",
   "metadata": {},
   "outputs": [
    {
     "data": {
      "text/html": [
       "<div>\n",
       "<style scoped>\n",
       "    .dataframe tbody tr th:only-of-type {\n",
       "        vertical-align: middle;\n",
       "    }\n",
       "\n",
       "    .dataframe tbody tr th {\n",
       "        vertical-align: top;\n",
       "    }\n",
       "\n",
       "    .dataframe thead th {\n",
       "        text-align: right;\n",
       "    }\n",
       "</style>\n",
       "<table border=\"1\" class=\"dataframe\">\n",
       "  <thead>\n",
       "    <tr style=\"text-align: right;\">\n",
       "      <th></th>\n",
       "      <th>wo_hit_rk</th>\n",
       "      <th>wo_task_rk</th>\n",
       "      <th>wo_queue_id</th>\n",
       "      <th>agent_login</th>\n",
       "      <th>wo_employee_rk</th>\n",
       "      <th>finish_dttm</th>\n",
       "      <th>duration_sec</th>\n",
       "      <th>task_rk</th>\n",
       "      <th>task_stage_id</th>\n",
       "      <th>source_system_cd</th>\n",
       "      <th>...</th>\n",
       "      <th>hit_status_result_desc</th>\n",
       "      <th>queue_id</th>\n",
       "      <th>queue_desc</th>\n",
       "      <th>org_group_rk</th>\n",
       "      <th>org_management_rk</th>\n",
       "      <th>group_nm</th>\n",
       "      <th>org_management_rk</th>\n",
       "      <th>management_nm</th>\n",
       "      <th>agent_login</th>\n",
       "      <th>horoscope</th>\n",
       "    </tr>\n",
       "  </thead>\n",
       "  <tbody>\n",
       "    <tr>\n",
       "      <th>0</th>\n",
       "      <td>10001402</td>\n",
       "      <td>95516722</td>\n",
       "      <td>14642</td>\n",
       "      <td>alovmmma</td>\n",
       "      <td>44341014</td>\n",
       "      <td>2022-08-15 15:52:33</td>\n",
       "      <td>160.63</td>\n",
       "      <td>95516722</td>\n",
       "      <td>1.0</td>\n",
       "      <td>GI</td>\n",
       "      <td>...</td>\n",
       "      <td>Дозвон, Перезвонить</td>\n",
       "      <td>14642</td>\n",
       "      <td>Очередь 50</td>\n",
       "      <td>378</td>\n",
       "      <td>415</td>\n",
       "      <td>Группа 41</td>\n",
       "      <td>415</td>\n",
       "      <td>Управление КЦ Парис</td>\n",
       "      <td>alovmmma</td>\n",
       "      <td>Водолей</td>\n",
       "    </tr>\n",
       "    <tr>\n",
       "      <th>1</th>\n",
       "      <td>10002397</td>\n",
       "      <td>5589411</td>\n",
       "      <td>4081</td>\n",
       "      <td>6446kmmi</td>\n",
       "      <td>95651109</td>\n",
       "      <td>2022-08-15 10:29:33</td>\n",
       "      <td>0.00</td>\n",
       "      <td>5589411</td>\n",
       "      <td>1.0</td>\n",
       "      <td>GI</td>\n",
       "      <td>...</td>\n",
       "      <td>Недозвон</td>\n",
       "      <td>4081</td>\n",
       "      <td>Очередь 78</td>\n",
       "      <td>3240</td>\n",
       "      <td>1621</td>\n",
       "      <td>Группа 36</td>\n",
       "      <td>1621</td>\n",
       "      <td>Управление КЦ Чизан</td>\n",
       "      <td>6446kmmi</td>\n",
       "      <td>Овен</td>\n",
       "    </tr>\n",
       "    <tr>\n",
       "      <th>2</th>\n",
       "      <td>10002617</td>\n",
       "      <td>98250515</td>\n",
       "      <td>14644</td>\n",
       "      <td>zovaiaoz</td>\n",
       "      <td>14809914</td>\n",
       "      <td>2022-08-15 16:19:44</td>\n",
       "      <td>0.00</td>\n",
       "      <td>98250515</td>\n",
       "      <td>1.0</td>\n",
       "      <td>GI</td>\n",
       "      <td>...</td>\n",
       "      <td>Недозвон</td>\n",
       "      <td>14644</td>\n",
       "      <td>Очередь 119</td>\n",
       "      <td>2531</td>\n",
       "      <td>1720</td>\n",
       "      <td>Группа 3</td>\n",
       "      <td>1720</td>\n",
       "      <td>Управление КЦ Кирис</td>\n",
       "      <td>zovaiaoz</td>\n",
       "      <td>Лев</td>\n",
       "    </tr>\n",
       "  </tbody>\n",
       "</table>\n",
       "<p>3 rows × 30 columns</p>\n",
       "</div>"
      ],
      "text/plain": [
       "  wo_hit_rk wo_task_rk wo_queue_id agent_login wo_employee_rk  \\\n",
       "0  10001402   95516722       14642    alovmmma       44341014   \n",
       "1  10002397    5589411        4081    6446kmmi       95651109   \n",
       "2  10002617   98250515       14644    zovaiaoz       14809914   \n",
       "\n",
       "           finish_dttm  duration_sec   task_rk task_stage_id source_system_cd  \\\n",
       "0  2022-08-15 15:52:33        160.63  95516722           1.0               GI   \n",
       "1  2022-08-15 10:29:33          0.00   5589411           1.0               GI   \n",
       "2  2022-08-15 16:19:44          0.00  98250515           1.0               GI   \n",
       "\n",
       "   ... hit_status_result_desc queue_id   queue_desc org_group_rk  \\\n",
       "0  ...    Дозвон, Перезвонить    14642   Очередь 50          378   \n",
       "1  ...               Недозвон     4081   Очередь 78         3240   \n",
       "2  ...               Недозвон    14644  Очередь 119         2531   \n",
       "\n",
       "  org_management_rk   group_nm org_management_rk        management_nm  \\\n",
       "0               415  Группа 41               415  Управление КЦ Парис   \n",
       "1              1621  Группа 36              1621  Управление КЦ Чизан   \n",
       "2              1720   Группа 3              1720  Управление КЦ Кирис   \n",
       "\n",
       "  agent_login horoscope  \n",
       "0    alovmmma   Водолей  \n",
       "1    6446kmmi      Овен  \n",
       "2    zovaiaoz       Лев  \n",
       "\n",
       "[3 rows x 30 columns]"
      ]
     },
     "execution_count": 37,
     "metadata": {},
     "output_type": "execute_result"
    }
   ],
   "source": [
    "big_df.head(3)"
   ]
  },
  {
   "cell_type": "code",
   "execution_count": 38,
   "id": "b9f362d3",
   "metadata": {},
   "outputs": [
    {
     "data": {
      "text/plain": [
       "Index(['wo_hit_rk', 'wo_task_rk', 'wo_queue_id', 'agent_login',\n",
       "       'wo_employee_rk', 'finish_dttm', 'duration_sec', 'task_rk',\n",
       "       'task_stage_id', 'source_system_cd', 'create_dttm', 'finish_dttm',\n",
       "       'hit_rk', 'hit_status_result_id', 'hit_rk', 'hid', 'using_flg',\n",
       "       'employee_rk', 'org_group_rk', 'hit_status_result_id',\n",
       "       'hit_status_result_desc', 'queue_id', 'queue_desc', 'org_group_rk',\n",
       "       'org_management_rk', 'group_nm', 'org_management_rk', 'management_nm',\n",
       "       'agent_login', 'horoscope'],\n",
       "      dtype='object')"
      ]
     },
     "execution_count": 38,
     "metadata": {},
     "output_type": "execute_result"
    }
   ],
   "source": [
    "big_df.columns"
   ]
  },
  {
   "cell_type": "code",
   "execution_count": 39,
   "id": "17f093af",
   "metadata": {},
   "outputs": [],
   "source": [
    "new_df = big_df.copy()"
   ]
  },
  {
   "cell_type": "code",
   "execution_count": 40,
   "id": "1daa93c1",
   "metadata": {},
   "outputs": [],
   "source": [
    "new_df = new_df.drop(['task_rk', \n",
    "                      'task_stage_id',\n",
    "                      'wo_hit_rk',\n",
    "                      'wo_task_rk',\n",
    "                      'wo_queue_id',\n",
    "                      'wo_employee_rk',\n",
    "                      'hit_rk',\n",
    "                      'hit_status_result_id',\n",
    "                      'employee_rk', \n",
    "                      'org_group_rk',\n",
    "                      'queue_id',\n",
    "                      'org_management_rk'], axis=1)\n"
   ]
  },
  {
   "cell_type": "code",
   "execution_count": 41,
   "id": "8e750768",
   "metadata": {},
   "outputs": [
    {
     "data": {
      "text/plain": [
       "Index(['agent_login', 'finish_dttm', 'duration_sec', 'source_system_cd',\n",
       "       'create_dttm', 'finish_dttm', 'hid', 'using_flg',\n",
       "       'hit_status_result_desc', 'queue_desc', 'group_nm', 'management_nm',\n",
       "       'agent_login', 'horoscope'],\n",
       "      dtype='object')"
      ]
     },
     "execution_count": 41,
     "metadata": {},
     "output_type": "execute_result"
    }
   ],
   "source": [
    "new_df.columns"
   ]
  },
  {
   "cell_type": "code",
   "execution_count": 42,
   "id": "2d348610",
   "metadata": {},
   "outputs": [
    {
     "data": {
      "text/plain": [
       "14"
      ]
     },
     "execution_count": 42,
     "metadata": {},
     "output_type": "execute_result"
    }
   ],
   "source": [
    "new_df.shape[1]"
   ]
  },
  {
   "cell_type": "code",
   "execution_count": null,
   "id": "5f12d934",
   "metadata": {},
   "outputs": [],
   "source": []
  },
  {
   "cell_type": "code",
   "execution_count": null,
   "id": "98c740e0",
   "metadata": {},
   "outputs": [],
   "source": []
  },
  {
   "cell_type": "code",
   "execution_count": 80,
   "id": "302a43d8",
   "metadata": {},
   "outputs": [
    {
     "data": {
      "text/html": [
       "<div>\n",
       "<style scoped>\n",
       "    .dataframe tbody tr th:only-of-type {\n",
       "        vertical-align: middle;\n",
       "    }\n",
       "\n",
       "    .dataframe tbody tr th {\n",
       "        vertical-align: top;\n",
       "    }\n",
       "\n",
       "    .dataframe thead th {\n",
       "        text-align: right;\n",
       "    }\n",
       "</style>\n",
       "<table border=\"1\" class=\"dataframe\">\n",
       "  <thead>\n",
       "    <tr style=\"text-align: right;\">\n",
       "      <th></th>\n",
       "      <th>agent_login</th>\n",
       "      <th>agent_login</th>\n",
       "    </tr>\n",
       "  </thead>\n",
       "  <tbody>\n",
       "    <tr>\n",
       "      <th>0</th>\n",
       "      <td>alovmmma</td>\n",
       "      <td>alovmmma</td>\n",
       "    </tr>\n",
       "    <tr>\n",
       "      <th>1</th>\n",
       "      <td>6446kmmi</td>\n",
       "      <td>6446kmmi</td>\n",
       "    </tr>\n",
       "    <tr>\n",
       "      <th>2</th>\n",
       "      <td>zovaiaoz</td>\n",
       "      <td>zovaiaoz</td>\n",
       "    </tr>\n",
       "    <tr>\n",
       "      <th>3</th>\n",
       "      <td>7787nyua</td>\n",
       "      <td>7787nyua</td>\n",
       "    </tr>\n",
       "    <tr>\n",
       "      <th>4</th>\n",
       "      <td>kovadsku</td>\n",
       "      <td>kovadsku</td>\n",
       "    </tr>\n",
       "    <tr>\n",
       "      <th>...</th>\n",
       "      <td>...</td>\n",
       "      <td>...</td>\n",
       "    </tr>\n",
       "    <tr>\n",
       "      <th>89169</th>\n",
       "      <td>5037rbuz</td>\n",
       "      <td>5037rbuz</td>\n",
       "    </tr>\n",
       "    <tr>\n",
       "      <th>89170</th>\n",
       "      <td>1116ovyu</td>\n",
       "      <td>1116ovyu</td>\n",
       "    </tr>\n",
       "    <tr>\n",
       "      <th>89171</th>\n",
       "      <td>kovalaby</td>\n",
       "      <td>kovalaby</td>\n",
       "    </tr>\n",
       "    <tr>\n",
       "      <th>89172</th>\n",
       "      <td>ryanigxa</td>\n",
       "      <td>ryanigxa</td>\n",
       "    </tr>\n",
       "    <tr>\n",
       "      <th>89173</th>\n",
       "      <td>7754kvmi</td>\n",
       "      <td>7754kvmi</td>\n",
       "    </tr>\n",
       "  </tbody>\n",
       "</table>\n",
       "<p>89174 rows × 2 columns</p>\n",
       "</div>"
      ],
      "text/plain": [
       "      agent_login agent_login\n",
       "0        alovmmma    alovmmma\n",
       "1        6446kmmi    6446kmmi\n",
       "2        zovaiaoz    zovaiaoz\n",
       "3        7787nyua    7787nyua\n",
       "4        kovadsku    kovadsku\n",
       "...           ...         ...\n",
       "89169    5037rbuz    5037rbuz\n",
       "89170    1116ovyu    1116ovyu\n",
       "89171    kovalaby    kovalaby\n",
       "89172    ryanigxa    ryanigxa\n",
       "89173    7754kvmi    7754kvmi\n",
       "\n",
       "[89174 rows x 2 columns]"
      ]
     },
     "execution_count": 80,
     "metadata": {},
     "output_type": "execute_result"
    }
   ],
   "source": [
    "df_1['agent_login'].astype(str)"
   ]
  },
  {
   "cell_type": "code",
   "execution_count": 81,
   "id": "16818935",
   "metadata": {
    "scrolled": true
   },
   "outputs": [
    {
     "data": {
      "text/plain": [
       "agent_login                object\n",
       "finish_dttm                object\n",
       "duration_sec              float64\n",
       "source_system_cd           object\n",
       "create_dttm                object\n",
       "finish_dttm                object\n",
       "hid                        object\n",
       "using_flg                  object\n",
       "hit_status_result_desc     object\n",
       "queue_desc                 object\n",
       "group_nm                   object\n",
       "management_nm              object\n",
       "agent_login                object\n",
       "horoscope                  object\n",
       "dtype: object"
      ]
     },
     "execution_count": 81,
     "metadata": {},
     "output_type": "execute_result"
    }
   ],
   "source": [
    "df_1.dtypes"
   ]
  },
  {
   "cell_type": "code",
   "execution_count": 47,
   "id": "5b0bf285",
   "metadata": {},
   "outputs": [
    {
     "data": {
      "text/plain": [
       "wo_hit_rk           int64\n",
       "wo_task_rk          int64\n",
       "wo_queue_id         int64\n",
       "agent_login        object\n",
       "wo_employee_rk      int64\n",
       "finish_dttm        object\n",
       "duratoin_sec      float64\n",
       "dtype: object"
      ]
     },
     "execution_count": 47,
     "metadata": {},
     "output_type": "execute_result"
    }
   ],
   "source": [
    "call.dtypes"
   ]
  },
  {
   "cell_type": "code",
   "execution_count": 49,
   "id": "fd76bf6b",
   "metadata": {
    "scrolled": true
   },
   "outputs": [
    {
     "data": {
      "text/plain": [
       "agent_login                object\n",
       "finish_dttm                object\n",
       "duration_sec              float64\n",
       "source_system_cd           object\n",
       "create_dttm                object\n",
       "finish_dttm                object\n",
       "hid                        object\n",
       "using_flg                  object\n",
       "hit_status_result_desc     object\n",
       "queue_desc                 object\n",
       "group_nm                   object\n",
       "management_nm              object\n",
       "agent_login                object\n",
       "horoscope                  object\n",
       "dtype: object"
      ]
     },
     "execution_count": 49,
     "metadata": {},
     "output_type": "execute_result"
    }
   ],
   "source": [
    "new_df.dtypes"
   ]
  },
  {
   "cell_type": "code",
   "execution_count": 43,
   "id": "19b7aeb2",
   "metadata": {
    "scrolled": true
   },
   "outputs": [
    {
     "data": {
      "text/html": [
       "<div>\n",
       "<style scoped>\n",
       "    .dataframe tbody tr th:only-of-type {\n",
       "        vertical-align: middle;\n",
       "    }\n",
       "\n",
       "    .dataframe tbody tr th {\n",
       "        vertical-align: top;\n",
       "    }\n",
       "\n",
       "    .dataframe thead th {\n",
       "        text-align: right;\n",
       "    }\n",
       "</style>\n",
       "<table border=\"1\" class=\"dataframe\">\n",
       "  <thead>\n",
       "    <tr style=\"text-align: right;\">\n",
       "      <th></th>\n",
       "      <th>agent_login</th>\n",
       "      <th>finish_dttm</th>\n",
       "      <th>duration_sec</th>\n",
       "      <th>source_system_cd</th>\n",
       "      <th>create_dttm</th>\n",
       "      <th>finish_dttm</th>\n",
       "      <th>hid</th>\n",
       "      <th>using_flg</th>\n",
       "      <th>hit_status_result_desc</th>\n",
       "      <th>queue_desc</th>\n",
       "      <th>group_nm</th>\n",
       "      <th>management_nm</th>\n",
       "      <th>agent_login</th>\n",
       "      <th>horoscope</th>\n",
       "    </tr>\n",
       "  </thead>\n",
       "  <tbody>\n",
       "    <tr>\n",
       "      <th>0</th>\n",
       "      <td>alovmmma</td>\n",
       "      <td>2022-08-15 15:52:33</td>\n",
       "      <td>160.63</td>\n",
       "      <td>GI</td>\n",
       "      <td>2022-08-03 03:44:01</td>\n",
       "      <td>2022-10-04 00:02:24</td>\n",
       "      <td>4</td>\n",
       "      <td></td>\n",
       "      <td>Дозвон, Перезвонить</td>\n",
       "      <td>Очередь 50</td>\n",
       "      <td>Группа 41</td>\n",
       "      <td>Управление КЦ Парис</td>\n",
       "      <td>alovmmma</td>\n",
       "      <td>Водолей</td>\n",
       "    </tr>\n",
       "    <tr>\n",
       "      <th>1</th>\n",
       "      <td>6446kmmi</td>\n",
       "      <td>2022-08-15 10:29:33</td>\n",
       "      <td>0.00</td>\n",
       "      <td>GI</td>\n",
       "      <td>2022-08-14 14:00:51</td>\n",
       "      <td>2022-08-15 13:32:10</td>\n",
       "      <td>1</td>\n",
       "      <td></td>\n",
       "      <td>Недозвон</td>\n",
       "      <td>Очередь 78</td>\n",
       "      <td>Группа 36</td>\n",
       "      <td>Управление КЦ Чизан</td>\n",
       "      <td>6446kmmi</td>\n",
       "      <td>Овен</td>\n",
       "    </tr>\n",
       "  </tbody>\n",
       "</table>\n",
       "</div>"
      ],
      "text/plain": [
       "  agent_login          finish_dttm  duration_sec source_system_cd  \\\n",
       "0    alovmmma  2022-08-15 15:52:33        160.63               GI   \n",
       "1    6446kmmi  2022-08-15 10:29:33          0.00               GI   \n",
       "\n",
       "           create_dttm          finish_dttm hid using_flg  \\\n",
       "0  2022-08-03 03:44:01  2022-10-04 00:02:24   4             \n",
       "1  2022-08-14 14:00:51  2022-08-15 13:32:10   1             \n",
       "\n",
       "  hit_status_result_desc  queue_desc   group_nm        management_nm  \\\n",
       "0    Дозвон, Перезвонить  Очередь 50  Группа 41  Управление КЦ Парис   \n",
       "1               Недозвон  Очередь 78  Группа 36  Управление КЦ Чизан   \n",
       "\n",
       "  agent_login horoscope  \n",
       "0    alovmmma   Водолей  \n",
       "1    6446kmmi      Овен  "
      ]
     },
     "execution_count": 43,
     "metadata": {},
     "output_type": "execute_result"
    }
   ],
   "source": [
    "new_df.head(2)"
   ]
  },
  {
   "cell_type": "code",
   "execution_count": 44,
   "id": "145300e1",
   "metadata": {},
   "outputs": [
    {
     "name": "stdout",
     "output_type": "stream",
     "text": [
      "Это DataFrame\n"
     ]
    }
   ],
   "source": [
    "\n",
    "# Предположим, что ваша переменная называется df\n",
    "if isinstance(new_df, pd.DataFrame):\n",
    "    print(\"Это DataFrame\")\n",
    "else:\n",
    "    print(\"Это не DataFrame\")\n"
   ]
  },
  {
   "cell_type": "markdown",
   "id": "5af10c1f",
   "metadata": {},
   "source": [
    "# 1111"
   ]
  },
  {
   "cell_type": "code",
   "execution_count": 47,
   "id": "bec03624",
   "metadata": {},
   "outputs": [],
   "source": [
    "# del task, call, action, product, emp_x_org_gr, result, queue, group, mngmnt, horoscope, big_df"
   ]
  },
  {
   "cell_type": "code",
   "execution_count": 51,
   "id": "5f8dff36",
   "metadata": {},
   "outputs": [
    {
     "name": "stdout",
     "output_type": "stream",
     "text": [
      "CPU times: total: 0 ns\n",
      "Wall time: 0 ns\n"
     ]
    }
   ],
   "source": [
    "%time\n",
    "writer = pd.ExcelWriter('new_df.xlsx')\n",
    "new_df.to_excel(writer, sheet_name='Sheet1', index=False)\n",
    "writer.save()"
   ]
  },
  {
   "cell_type": "code",
   "execution_count": 45,
   "id": "b14a208b",
   "metadata": {},
   "outputs": [],
   "source": [
    "df_ex = pd.read_excel('new_df.xlsx')"
   ]
  },
  {
   "cell_type": "code",
   "execution_count": 46,
   "id": "33dd3dc5",
   "metadata": {},
   "outputs": [
    {
     "data": {
      "text/plain": [
       "<bound method Series.unique of 0        lyangama\n",
       "1        enkoiion\n",
       "2        kinalapo\n",
       "3        kinasgsa\n",
       "4        ikovnisu\n",
       "           ...   \n",
       "89169    0514adan\n",
       "89170    0553nman\n",
       "89171    chicvvpo\n",
       "89172    0422aeka\n",
       "89173    eevamvxa\n",
       "Name: agent_login, Length: 89174, dtype: object>"
      ]
     },
     "execution_count": 46,
     "metadata": {},
     "output_type": "execute_result"
    }
   ],
   "source": [
    "df_ex['agent_login'].unique"
   ]
  },
  {
   "cell_type": "code",
   "execution_count": 47,
   "id": "6db71a01",
   "metadata": {
    "scrolled": true
   },
   "outputs": [
    {
     "data": {
      "text/html": [
       "<div>\n",
       "<style scoped>\n",
       "    .dataframe tbody tr th:only-of-type {\n",
       "        vertical-align: middle;\n",
       "    }\n",
       "\n",
       "    .dataframe tbody tr th {\n",
       "        vertical-align: top;\n",
       "    }\n",
       "\n",
       "    .dataframe thead th {\n",
       "        text-align: right;\n",
       "    }\n",
       "</style>\n",
       "<table border=\"1\" class=\"dataframe\">\n",
       "  <thead>\n",
       "    <tr style=\"text-align: right;\">\n",
       "      <th></th>\n",
       "      <th>agent_login</th>\n",
       "      <th>finish_dttm</th>\n",
       "      <th>duration_sec</th>\n",
       "      <th>source_system_cd</th>\n",
       "      <th>create_dttm</th>\n",
       "      <th>finish_dttm.1</th>\n",
       "      <th>hid</th>\n",
       "      <th>using_flg</th>\n",
       "      <th>hit_status_result_desc</th>\n",
       "      <th>queue_desc</th>\n",
       "      <th>group_nm</th>\n",
       "      <th>management_nm</th>\n",
       "      <th>agent_login.1</th>\n",
       "      <th>horoscope</th>\n",
       "    </tr>\n",
       "  </thead>\n",
       "  <tbody>\n",
       "    <tr>\n",
       "      <th>0</th>\n",
       "      <td>lyangama</td>\n",
       "      <td>2022-08-01 12:52:25</td>\n",
       "      <td>0.00</td>\n",
       "      <td>GI</td>\n",
       "      <td>2022-08-01 00:46:37</td>\n",
       "      <td>2022-08-01 15:35:39</td>\n",
       "      <td>4</td>\n",
       "      <td>NaN</td>\n",
       "      <td>Недозвон</td>\n",
       "      <td>Очередь 143</td>\n",
       "      <td>Группа 30</td>\n",
       "      <td>Управление КЦ Чизан</td>\n",
       "      <td>lyangama</td>\n",
       "      <td>Козерог</td>\n",
       "    </tr>\n",
       "    <tr>\n",
       "      <th>1</th>\n",
       "      <td>enkoiion</td>\n",
       "      <td>2022-08-08 10:46:46</td>\n",
       "      <td>12.53</td>\n",
       "      <td>GI</td>\n",
       "      <td>2022-08-06 11:24:23</td>\n",
       "      <td>2022-08-17 11:23:53</td>\n",
       "      <td>3</td>\n",
       "      <td>NaN</td>\n",
       "      <td>Дозвон, Перезвонить</td>\n",
       "      <td>Очередь 4</td>\n",
       "      <td>Группа 20</td>\n",
       "      <td>Управление КЦ Мас</td>\n",
       "      <td>enkoiion</td>\n",
       "      <td>Козерог</td>\n",
       "    </tr>\n",
       "    <tr>\n",
       "      <th>2</th>\n",
       "      <td>kinalapo</td>\n",
       "      <td>2022-08-16 14:16:03</td>\n",
       "      <td>0.00</td>\n",
       "      <td>GI</td>\n",
       "      <td>2022-07-29 04:46:37</td>\n",
       "      <td>2022-09-22 10:57:30</td>\n",
       "      <td>4</td>\n",
       "      <td>NaN</td>\n",
       "      <td>Недозвон</td>\n",
       "      <td>Очередь 58</td>\n",
       "      <td>Группа 5</td>\n",
       "      <td>Управление КЦ Ромашка</td>\n",
       "      <td>kinalapo</td>\n",
       "      <td>Козерог</td>\n",
       "    </tr>\n",
       "  </tbody>\n",
       "</table>\n",
       "</div>"
      ],
      "text/plain": [
       "  agent_login          finish_dttm  duration_sec source_system_cd  \\\n",
       "0    lyangama  2022-08-01 12:52:25          0.00               GI   \n",
       "1    enkoiion  2022-08-08 10:46:46         12.53               GI   \n",
       "2    kinalapo  2022-08-16 14:16:03          0.00               GI   \n",
       "\n",
       "           create_dttm        finish_dttm.1  hid  using_flg  \\\n",
       "0  2022-08-01 00:46:37  2022-08-01 15:35:39    4        NaN   \n",
       "1  2022-08-06 11:24:23  2022-08-17 11:23:53    3        NaN   \n",
       "2  2022-07-29 04:46:37  2022-09-22 10:57:30    4        NaN   \n",
       "\n",
       "  hit_status_result_desc   queue_desc   group_nm          management_nm  \\\n",
       "0               Недозвон  Очередь 143  Группа 30    Управление КЦ Чизан   \n",
       "1    Дозвон, Перезвонить    Очередь 4  Группа 20      Управление КЦ Мас   \n",
       "2               Недозвон   Очередь 58   Группа 5  Управление КЦ Ромашка   \n",
       "\n",
       "  agent_login.1 horoscope  \n",
       "0      lyangama   Козерог  \n",
       "1      enkoiion   Козерог  \n",
       "2      kinalapo   Козерог  "
      ]
     },
     "execution_count": 47,
     "metadata": {},
     "output_type": "execute_result"
    }
   ],
   "source": [
    "df_ex.head(3)"
   ]
  },
  {
   "cell_type": "code",
   "execution_count": 48,
   "id": "766110fb",
   "metadata": {},
   "outputs": [
    {
     "data": {
      "text/plain": [
       "wo_hit_rk           int64\n",
       "wo_task_rk          int64\n",
       "wo_queue_id         int64\n",
       "agent_login        object\n",
       "wo_employee_rk      int64\n",
       "finish_dttm        object\n",
       "duratoin_sec      float64\n",
       "dtype: object"
      ]
     },
     "execution_count": 48,
     "metadata": {},
     "output_type": "execute_result"
    }
   ],
   "source": [
    "call.dtypes"
   ]
  },
  {
   "cell_type": "code",
   "execution_count": 49,
   "id": "5467d27d",
   "metadata": {},
   "outputs": [
    {
     "data": {
      "text/html": [
       "<div>\n",
       "<style scoped>\n",
       "    .dataframe tbody tr th:only-of-type {\n",
       "        vertical-align: middle;\n",
       "    }\n",
       "\n",
       "    .dataframe tbody tr th {\n",
       "        vertical-align: top;\n",
       "    }\n",
       "\n",
       "    .dataframe thead th {\n",
       "        text-align: right;\n",
       "    }\n",
       "</style>\n",
       "<table border=\"1\" class=\"dataframe\">\n",
       "  <thead>\n",
       "    <tr style=\"text-align: right;\">\n",
       "      <th></th>\n",
       "      <th>wo_hit_rk</th>\n",
       "      <th>wo_task_rk</th>\n",
       "      <th>wo_queue_id</th>\n",
       "      <th>agent_login</th>\n",
       "      <th>wo_employee_rk</th>\n",
       "      <th>finish_dttm</th>\n",
       "      <th>duratoin_sec</th>\n",
       "    </tr>\n",
       "  </thead>\n",
       "  <tbody>\n",
       "    <tr>\n",
       "      <th>0</th>\n",
       "      <td>73292106</td>\n",
       "      <td>93625442</td>\n",
       "      <td>12245</td>\n",
       "      <td>lyangama</td>\n",
       "      <td>66749466</td>\n",
       "      <td>2022-08-01 12:52:25</td>\n",
       "      <td>0.00</td>\n",
       "    </tr>\n",
       "    <tr>\n",
       "      <th>1</th>\n",
       "      <td>93763347</td>\n",
       "      <td>98572816</td>\n",
       "      <td>11696</td>\n",
       "      <td>enkoiion</td>\n",
       "      <td>88931008</td>\n",
       "      <td>2022-08-08 10:46:46</td>\n",
       "      <td>12.53</td>\n",
       "    </tr>\n",
       "    <tr>\n",
       "      <th>2</th>\n",
       "      <td>13988704</td>\n",
       "      <td>91292760</td>\n",
       "      <td>14354</td>\n",
       "      <td>kinalapo</td>\n",
       "      <td>61041016</td>\n",
       "      <td>2022-08-16 14:16:03</td>\n",
       "      <td>0.00</td>\n",
       "    </tr>\n",
       "  </tbody>\n",
       "</table>\n",
       "</div>"
      ],
      "text/plain": [
       "   wo_hit_rk  wo_task_rk  wo_queue_id agent_login  wo_employee_rk  \\\n",
       "0   73292106    93625442        12245    lyangama        66749466   \n",
       "1   93763347    98572816        11696    enkoiion        88931008   \n",
       "2   13988704    91292760        14354    kinalapo        61041016   \n",
       "\n",
       "           finish_dttm  duratoin_sec  \n",
       "0  2022-08-01 12:52:25          0.00  \n",
       "1  2022-08-08 10:46:46         12.53  \n",
       "2  2022-08-16 14:16:03          0.00  "
      ]
     },
     "execution_count": 49,
     "metadata": {},
     "output_type": "execute_result"
    }
   ],
   "source": [
    "call.head(3)"
   ]
  },
  {
   "cell_type": "code",
   "execution_count": null,
   "id": "d5f80f6c",
   "metadata": {},
   "outputs": [],
   "source": []
  },
  {
   "cell_type": "code",
   "execution_count": 58,
   "id": "a42af8ea",
   "metadata": {},
   "outputs": [],
   "source": [
    "profile = ProfileReport(call, title=\"call\")"
   ]
  },
  {
   "cell_type": "code",
   "execution_count": 59,
   "id": "356dc597",
   "metadata": {},
   "outputs": [
    {
     "data": {
      "application/vnd.jupyter.widget-view+json": {
       "model_id": "b3a898ab312649ea98d7a61bbe810aac",
       "version_major": 2,
       "version_minor": 0
      },
      "text/plain": [
       "Summarize dataset:   0%|          | 0/5 [00:00<?, ?it/s]"
      ]
     },
     "metadata": {},
     "output_type": "display_data"
    },
    {
     "data": {
      "application/vnd.jupyter.widget-view+json": {
       "model_id": "315948e62d6a4c5db03a64fef91db211",
       "version_major": 2,
       "version_minor": 0
      },
      "text/plain": [
       "Generate report structure:   0%|          | 0/1 [00:00<?, ?it/s]"
      ]
     },
     "metadata": {},
     "output_type": "display_data"
    },
    {
     "data": {
      "application/vnd.jupyter.widget-view+json": {
       "model_id": "dac012c4b92b4954b7ea03445497cb81",
       "version_major": 2,
       "version_minor": 0
      },
      "text/plain": [
       "Render HTML:   0%|          | 0/1 [00:00<?, ?it/s]"
      ]
     },
     "metadata": {},
     "output_type": "display_data"
    },
    {
     "data": {
      "application/vnd.jupyter.widget-view+json": {
       "model_id": "c0e84e58cc184175b33d0f6a0d951ca5",
       "version_major": 2,
       "version_minor": 0
      },
      "text/plain": [
       "Export report to file:   0%|          | 0/1 [00:00<?, ?it/s]"
      ]
     },
     "metadata": {},
     "output_type": "display_data"
    },
    {
     "name": "stdout",
     "output_type": "stream",
     "text": [
      "CPU times: total: 18.5 s\n",
      "Wall time: 18.5 s\n"
     ]
    }
   ],
   "source": [
    "%%time\n",
    "profile.to_file(output_file=\"call.html\")"
   ]
  },
  {
   "cell_type": "code",
   "execution_count": null,
   "id": "80a8dbc9",
   "metadata": {},
   "outputs": [],
   "source": [
    "profile.to_notebook_iframe()"
   ]
  },
  {
   "cell_type": "markdown",
   "id": "c7ad9a09",
   "metadata": {},
   "source": [
    "Изменяю типы данных для профайлера"
   ]
  },
  {
   "cell_type": "code",
   "execution_count": null,
   "id": "b994ebb5",
   "metadata": {},
   "outputs": [],
   "source": [
    "# task, call, action, product, emp_x_org_gr, result, queue, group, mngmnt, horoscope"
   ]
  },
  {
   "cell_type": "code",
   "execution_count": 60,
   "id": "f359baf6",
   "metadata": {},
   "outputs": [
    {
     "data": {
      "text/plain": [
       "task_rk               int64\n",
       "task_stage_id       float64\n",
       "source_system_cd     object\n",
       "create_dttm          object\n",
       "finish_dttm          object\n",
       "dtype: object"
      ]
     },
     "execution_count": 60,
     "metadata": {},
     "output_type": "execute_result"
    }
   ],
   "source": [
    "task.dtypes"
   ]
  },
  {
   "cell_type": "code",
   "execution_count": 62,
   "id": "e4a9f4c3",
   "metadata": {},
   "outputs": [
    {
     "data": {
      "text/plain": [
       "wo_hit_rk           int64\n",
       "wo_task_rk          int64\n",
       "wo_queue_id         int64\n",
       "agent_login        object\n",
       "wo_employee_rk      int64\n",
       "finish_dttm        object\n",
       "duratoin_sec      float64\n",
       "dtype: object"
      ]
     },
     "execution_count": 62,
     "metadata": {},
     "output_type": "execute_result"
    }
   ],
   "source": [
    "call.dtypes"
   ]
  },
  {
   "cell_type": "code",
   "execution_count": 63,
   "id": "c79308fb",
   "metadata": {},
   "outputs": [
    {
     "data": {
      "text/plain": [
       "hit_rk                  int64\n",
       "hit_status_result_id    int64\n",
       "dtype: object"
      ]
     },
     "execution_count": 63,
     "metadata": {},
     "output_type": "execute_result"
    }
   ],
   "source": [
    "action.dtypes"
   ]
  },
  {
   "cell_type": "code",
   "execution_count": 64,
   "id": "7648df60",
   "metadata": {
    "scrolled": false
   },
   "outputs": [
    {
     "data": {
      "text/plain": [
       "hit_rk         int64\n",
       "hid            int64\n",
       "using_flg    float64\n",
       "dtype: object"
      ]
     },
     "execution_count": 64,
     "metadata": {},
     "output_type": "execute_result"
    }
   ],
   "source": [
    "product.dtypes"
   ]
  },
  {
   "cell_type": "code",
   "execution_count": 105,
   "id": "90d563cf",
   "metadata": {},
   "outputs": [
    {
     "data": {
      "text/plain": [
       "<bound method Series.unique of 0       NaN\n",
       "1       NaN\n",
       "2       NaN\n",
       "3       NaN\n",
       "4       NaN\n",
       "         ..\n",
       "89169   NaN\n",
       "89170   NaN\n",
       "89171   NaN\n",
       "89172   NaN\n",
       "89173   NaN\n",
       "Name: using_flg, Length: 89174, dtype: float64>"
      ]
     },
     "execution_count": 105,
     "metadata": {},
     "output_type": "execute_result"
    }
   ],
   "source": [
    "product['using_flg'].unique"
   ]
  },
  {
   "cell_type": "code",
   "execution_count": 65,
   "id": "34067e21",
   "metadata": {},
   "outputs": [
    {
     "data": {
      "text/plain": [
       "employee_rk     int64\n",
       "org_group_rk    int64\n",
       "dtype: object"
      ]
     },
     "execution_count": 65,
     "metadata": {},
     "output_type": "execute_result"
    }
   ],
   "source": [
    "emp_x_org_gr.dtypes"
   ]
  },
  {
   "cell_type": "code",
   "execution_count": 66,
   "id": "985dc4b9",
   "metadata": {},
   "outputs": [
    {
     "data": {
      "text/plain": [
       "hit_status_result_id       int64\n",
       "hit_status_result_desc    object\n",
       "dtype: object"
      ]
     },
     "execution_count": 66,
     "metadata": {},
     "output_type": "execute_result"
    }
   ],
   "source": [
    "result.dtypes"
   ]
  },
  {
   "cell_type": "code",
   "execution_count": 67,
   "id": "fec58511",
   "metadata": {},
   "outputs": [
    {
     "data": {
      "text/plain": [
       "queue_id       int64\n",
       "queue_desc    object\n",
       "dtype: object"
      ]
     },
     "execution_count": 67,
     "metadata": {},
     "output_type": "execute_result"
    }
   ],
   "source": [
    "queue.dtypes"
   ]
  },
  {
   "cell_type": "code",
   "execution_count": 68,
   "id": "8007f364",
   "metadata": {},
   "outputs": [
    {
     "data": {
      "text/plain": [
       "org_group_rk          int64\n",
       "org_management_rk     int64\n",
       "group_nm             object\n",
       "dtype: object"
      ]
     },
     "execution_count": 68,
     "metadata": {},
     "output_type": "execute_result"
    }
   ],
   "source": [
    "group.dtypes"
   ]
  },
  {
   "cell_type": "code",
   "execution_count": 69,
   "id": "7a5ca2f9",
   "metadata": {},
   "outputs": [
    {
     "data": {
      "text/plain": [
       "org_management_rk     int64\n",
       "management_nm        object\n",
       "dtype: object"
      ]
     },
     "execution_count": 69,
     "metadata": {},
     "output_type": "execute_result"
    }
   ],
   "source": [
    "mngmnt.dtypes"
   ]
  },
  {
   "cell_type": "code",
   "execution_count": 70,
   "id": "9686c623",
   "metadata": {},
   "outputs": [
    {
     "data": {
      "text/plain": [
       "agent_login    object\n",
       "horoscope      object\n",
       "dtype: object"
      ]
     },
     "execution_count": 70,
     "metadata": {},
     "output_type": "execute_result"
    }
   ],
   "source": [
    "horoscope.dtypes"
   ]
  },
  {
   "cell_type": "code",
   "execution_count": 71,
   "id": "73afcdc0",
   "metadata": {},
   "outputs": [
    {
     "data": {
      "text/plain": [
       "agent_login                object\n",
       "finish_dttm                object\n",
       "duration_sec              float64\n",
       "source_system_cd           object\n",
       "create_dttm                object\n",
       "finish_dttm                object\n",
       "hid                        object\n",
       "using_flg                  object\n",
       "hit_status_result_desc     object\n",
       "queue_desc                 object\n",
       "group_nm                   object\n",
       "management_nm              object\n",
       "agent_login                object\n",
       "horoscope                  object\n",
       "dtype: object"
      ]
     },
     "execution_count": 71,
     "metadata": {},
     "output_type": "execute_result"
    }
   ],
   "source": [
    "new_df.dtypes"
   ]
  },
  {
   "cell_type": "code",
   "execution_count": 50,
   "id": "445fcc63",
   "metadata": {},
   "outputs": [],
   "source": [
    "del df"
   ]
  },
  {
   "cell_type": "code",
   "execution_count": 51,
   "id": "60dfd65c",
   "metadata": {},
   "outputs": [],
   "source": [
    "df = df_ex.copy()"
   ]
  },
  {
   "cell_type": "code",
   "execution_count": 52,
   "id": "19aa884a",
   "metadata": {},
   "outputs": [
    {
     "data": {
      "text/plain": [
       "agent_login                object\n",
       "finish_dttm                object\n",
       "duration_sec              float64\n",
       "source_system_cd           object\n",
       "create_dttm                object\n",
       "finish_dttm.1              object\n",
       "hid                         int64\n",
       "using_flg                 float64\n",
       "hit_status_result_desc     object\n",
       "queue_desc                 object\n",
       "group_nm                   object\n",
       "management_nm              object\n",
       "agent_login.1              object\n",
       "horoscope                  object\n",
       "dtype: object"
      ]
     },
     "execution_count": 52,
     "metadata": {},
     "output_type": "execute_result"
    }
   ],
   "source": [
    "df.dtypes"
   ]
  },
  {
   "cell_type": "code",
   "execution_count": 57,
   "id": "e54d5a20",
   "metadata": {},
   "outputs": [
    {
     "data": {
      "text/html": [
       "<div>\n",
       "<style scoped>\n",
       "    .dataframe tbody tr th:only-of-type {\n",
       "        vertical-align: middle;\n",
       "    }\n",
       "\n",
       "    .dataframe tbody tr th {\n",
       "        vertical-align: top;\n",
       "    }\n",
       "\n",
       "    .dataframe thead th {\n",
       "        text-align: right;\n",
       "    }\n",
       "</style>\n",
       "<table border=\"1\" class=\"dataframe\">\n",
       "  <thead>\n",
       "    <tr style=\"text-align: right;\">\n",
       "      <th></th>\n",
       "      <th>agent_login</th>\n",
       "      <th>finish_dttm</th>\n",
       "      <th>duration_sec</th>\n",
       "      <th>source_system_cd</th>\n",
       "      <th>create_dttm</th>\n",
       "      <th>hid</th>\n",
       "      <th>hit_status_result_desc</th>\n",
       "      <th>queue_desc</th>\n",
       "      <th>group_nm</th>\n",
       "      <th>management_nm</th>\n",
       "      <th>agent_login.1</th>\n",
       "      <th>horoscope</th>\n",
       "    </tr>\n",
       "  </thead>\n",
       "  <tbody>\n",
       "    <tr>\n",
       "      <th>0</th>\n",
       "      <td>lyangama</td>\n",
       "      <td>2022-08-01 12:52:25</td>\n",
       "      <td>0.00</td>\n",
       "      <td>GI</td>\n",
       "      <td>2022-08-01 00:46:37</td>\n",
       "      <td>4</td>\n",
       "      <td>Недозвон</td>\n",
       "      <td>Очередь 143</td>\n",
       "      <td>Группа 30</td>\n",
       "      <td>Управление КЦ Чизан</td>\n",
       "      <td>lyangama</td>\n",
       "      <td>Козерог</td>\n",
       "    </tr>\n",
       "    <tr>\n",
       "      <th>1</th>\n",
       "      <td>enkoiion</td>\n",
       "      <td>2022-08-08 10:46:46</td>\n",
       "      <td>12.53</td>\n",
       "      <td>GI</td>\n",
       "      <td>2022-08-06 11:24:23</td>\n",
       "      <td>3</td>\n",
       "      <td>Дозвон, Перезвонить</td>\n",
       "      <td>Очередь 4</td>\n",
       "      <td>Группа 20</td>\n",
       "      <td>Управление КЦ Мас</td>\n",
       "      <td>enkoiion</td>\n",
       "      <td>Козерог</td>\n",
       "    </tr>\n",
       "    <tr>\n",
       "      <th>2</th>\n",
       "      <td>kinalapo</td>\n",
       "      <td>2022-08-16 14:16:03</td>\n",
       "      <td>0.00</td>\n",
       "      <td>GI</td>\n",
       "      <td>2022-07-29 04:46:37</td>\n",
       "      <td>4</td>\n",
       "      <td>Недозвон</td>\n",
       "      <td>Очередь 58</td>\n",
       "      <td>Группа 5</td>\n",
       "      <td>Управление КЦ Ромашка</td>\n",
       "      <td>kinalapo</td>\n",
       "      <td>Козерог</td>\n",
       "    </tr>\n",
       "  </tbody>\n",
       "</table>\n",
       "</div>"
      ],
      "text/plain": [
       "  agent_login          finish_dttm  duration_sec source_system_cd  \\\n",
       "0    lyangama  2022-08-01 12:52:25          0.00               GI   \n",
       "1    enkoiion  2022-08-08 10:46:46         12.53               GI   \n",
       "2    kinalapo  2022-08-16 14:16:03          0.00               GI   \n",
       "\n",
       "           create_dttm  hid hit_status_result_desc   queue_desc   group_nm  \\\n",
       "0  2022-08-01 00:46:37    4               Недозвон  Очередь 143  Группа 30   \n",
       "1  2022-08-06 11:24:23    3    Дозвон, Перезвонить    Очередь 4  Группа 20   \n",
       "2  2022-07-29 04:46:37    4               Недозвон   Очередь 58   Группа 5   \n",
       "\n",
       "           management_nm agent_login.1 horoscope  \n",
       "0    Управление КЦ Чизан      lyangama   Козерог  \n",
       "1      Управление КЦ Мас      enkoiion   Козерог  \n",
       "2  Управление КЦ Ромашка      kinalapo   Козерог  "
      ]
     },
     "execution_count": 57,
     "metadata": {},
     "output_type": "execute_result"
    }
   ],
   "source": [
    "df.head(3)"
   ]
  },
  {
   "cell_type": "code",
   "execution_count": 56,
   "id": "90d3d59e",
   "metadata": {},
   "outputs": [
    {
     "data": {
      "text/plain": [
       "Index(['agent_login', 'finish_dttm', 'duration_sec', 'source_system_cd',\n",
       "       'create_dttm', 'hid', 'hit_status_result_desc', 'queue_desc',\n",
       "       'group_nm', 'management_nm', 'agent_login.1', 'horoscope'],\n",
       "      dtype='object')"
      ]
     },
     "execution_count": 56,
     "metadata": {},
     "output_type": "execute_result"
    }
   ],
   "source": [
    "df.columns"
   ]
  },
  {
   "cell_type": "code",
   "execution_count": 55,
   "id": "463fb0f1",
   "metadata": {},
   "outputs": [],
   "source": [
    "df = df.drop(['finish_dttm.1', 'using_flg'], axis=1)"
   ]
  },
  {
   "cell_type": "code",
   "execution_count": null,
   "id": "d80df60e",
   "metadata": {},
   "outputs": [],
   "source": [
    "# df['duration_sec'] = df['duration_sec'].astype(float)"
   ]
  },
  {
   "cell_type": "code",
   "execution_count": null,
   "id": "75e05f8f",
   "metadata": {},
   "outputs": [],
   "source": [
    "# df['hid'] = df['hid'].astype(int)"
   ]
  },
  {
   "cell_type": "code",
   "execution_count": 58,
   "id": "e0861242",
   "metadata": {},
   "outputs": [],
   "source": [
    "df['finish_dttm'] = pd.to_datetime(df['finish_dttm'], format='%Y-%m-%d %H:%M:%S')\n",
    "df['create_dttm'] = pd.to_datetime(df['create_dttm'], format='%Y-%m-%d %H:%M:%S')"
   ]
  },
  {
   "cell_type": "code",
   "execution_count": 143,
   "id": "22d033a6",
   "metadata": {},
   "outputs": [
    {
     "data": {
      "text/plain": [
       "agent_login                       object\n",
       "finish_dttm               datetime64[ns]\n",
       "duration_sec                     float64\n",
       "source_system_cd                  object\n",
       "create_dttm               datetime64[ns]\n",
       "hid                                int64\n",
       "hit_status_result_desc            object\n",
       "queue_desc                        object\n",
       "group_nm                          object\n",
       "management_nm                     object\n",
       "agent_login.1                     object\n",
       "horoscope                         object\n",
       "dtype: object"
      ]
     },
     "execution_count": 143,
     "metadata": {},
     "output_type": "execute_result"
    }
   ],
   "source": [
    "df.dtypes"
   ]
  },
  {
   "cell_type": "markdown",
   "id": "ab73ef4c",
   "metadata": {},
   "source": [
    "## фыфыф"
   ]
  },
  {
   "cell_type": "code",
   "execution_count": 59,
   "id": "c86bdf82",
   "metadata": {},
   "outputs": [],
   "source": [
    "df1 = df.head(100).copy()"
   ]
  },
  {
   "cell_type": "code",
   "execution_count": 60,
   "id": "bfdce4e8",
   "metadata": {},
   "outputs": [
    {
     "data": {
      "text/html": [
       "<div>\n",
       "<style scoped>\n",
       "    .dataframe tbody tr th:only-of-type {\n",
       "        vertical-align: middle;\n",
       "    }\n",
       "\n",
       "    .dataframe tbody tr th {\n",
       "        vertical-align: top;\n",
       "    }\n",
       "\n",
       "    .dataframe thead th {\n",
       "        text-align: right;\n",
       "    }\n",
       "</style>\n",
       "<table border=\"1\" class=\"dataframe\">\n",
       "  <thead>\n",
       "    <tr style=\"text-align: right;\">\n",
       "      <th></th>\n",
       "      <th>agent_login</th>\n",
       "      <th>finish_dttm</th>\n",
       "      <th>duration_sec</th>\n",
       "      <th>source_system_cd</th>\n",
       "      <th>create_dttm</th>\n",
       "      <th>hid</th>\n",
       "      <th>hit_status_result_desc</th>\n",
       "      <th>queue_desc</th>\n",
       "      <th>group_nm</th>\n",
       "      <th>management_nm</th>\n",
       "      <th>agent_login.1</th>\n",
       "      <th>horoscope</th>\n",
       "    </tr>\n",
       "  </thead>\n",
       "  <tbody>\n",
       "    <tr>\n",
       "      <th>0</th>\n",
       "      <td>lyangama</td>\n",
       "      <td>2022-08-01 12:52:25</td>\n",
       "      <td>0.00</td>\n",
       "      <td>GI</td>\n",
       "      <td>2022-08-01 00:46:37</td>\n",
       "      <td>4</td>\n",
       "      <td>Недозвон</td>\n",
       "      <td>Очередь 143</td>\n",
       "      <td>Группа 30</td>\n",
       "      <td>Управление КЦ Чизан</td>\n",
       "      <td>lyangama</td>\n",
       "      <td>Козерог</td>\n",
       "    </tr>\n",
       "    <tr>\n",
       "      <th>1</th>\n",
       "      <td>enkoiion</td>\n",
       "      <td>2022-08-08 10:46:46</td>\n",
       "      <td>12.53</td>\n",
       "      <td>GI</td>\n",
       "      <td>2022-08-06 11:24:23</td>\n",
       "      <td>3</td>\n",
       "      <td>Дозвон, Перезвонить</td>\n",
       "      <td>Очередь 4</td>\n",
       "      <td>Группа 20</td>\n",
       "      <td>Управление КЦ Мас</td>\n",
       "      <td>enkoiion</td>\n",
       "      <td>Козерог</td>\n",
       "    </tr>\n",
       "  </tbody>\n",
       "</table>\n",
       "</div>"
      ],
      "text/plain": [
       "  agent_login         finish_dttm  duration_sec source_system_cd  \\\n",
       "0    lyangama 2022-08-01 12:52:25          0.00               GI   \n",
       "1    enkoiion 2022-08-08 10:46:46         12.53               GI   \n",
       "\n",
       "          create_dttm  hid hit_status_result_desc   queue_desc   group_nm  \\\n",
       "0 2022-08-01 00:46:37    4               Недозвон  Очередь 143  Группа 30   \n",
       "1 2022-08-06 11:24:23    3    Дозвон, Перезвонить    Очередь 4  Группа 20   \n",
       "\n",
       "         management_nm agent_login.1 horoscope  \n",
       "0  Управление КЦ Чизан      lyangama   Козерог  \n",
       "1    Управление КЦ Мас      enkoiion   Козерог  "
      ]
     },
     "execution_count": 60,
     "metadata": {},
     "output_type": "execute_result"
    }
   ],
   "source": [
    "df1.head(2)"
   ]
  },
  {
   "cell_type": "code",
   "execution_count": 155,
   "id": "83d45a14",
   "metadata": {},
   "outputs": [],
   "source": [
    "profile = ProfileReport(df1, title=\"df\")"
   ]
  },
  {
   "cell_type": "code",
   "execution_count": 156,
   "id": "fbfa8cf3",
   "metadata": {},
   "outputs": [
    {
     "data": {
      "application/vnd.jupyter.widget-view+json": {
       "model_id": "5fb4aa82434647558f46ada67ea66229",
       "version_major": 2,
       "version_minor": 0
      },
      "text/plain": [
       "Summarize dataset:   0%|          | 0/5 [00:00<?, ?it/s]"
      ]
     },
     "metadata": {},
     "output_type": "display_data"
    },
    {
     "data": {
      "application/vnd.jupyter.widget-view+json": {
       "model_id": "77b19b0fc79b4308a4cea8760a04a04f",
       "version_major": 2,
       "version_minor": 0
      },
      "text/plain": [
       "Generate report structure:   0%|          | 0/1 [00:00<?, ?it/s]"
      ]
     },
     "metadata": {},
     "output_type": "display_data"
    },
    {
     "data": {
      "application/vnd.jupyter.widget-view+json": {
       "model_id": "922f72345e304a8f920e69c6c0f45074",
       "version_major": 2,
       "version_minor": 0
      },
      "text/plain": [
       "Render HTML:   0%|          | 0/1 [00:00<?, ?it/s]"
      ]
     },
     "metadata": {},
     "output_type": "display_data"
    },
    {
     "data": {
      "application/vnd.jupyter.widget-view+json": {
       "model_id": "46882ed62da74fbc8fa6b52c8882aafe",
       "version_major": 2,
       "version_minor": 0
      },
      "text/plain": [
       "Export report to file:   0%|          | 0/1 [00:00<?, ?it/s]"
      ]
     },
     "metadata": {},
     "output_type": "display_data"
    },
    {
     "name": "stdout",
     "output_type": "stream",
     "text": [
      "CPU times: total: 10.1 s\n",
      "Wall time: 10.2 s\n"
     ]
    }
   ],
   "source": [
    "%%time\n",
    "profile.to_file(output_file=\"df.html\")"
   ]
  },
  {
   "cell_type": "code",
   "execution_count": null,
   "id": "fae02906",
   "metadata": {},
   "outputs": [],
   "source": [
    "profile.to_notebook_iframe()"
   ]
  },
  {
   "cell_type": "code",
   "execution_count": 152,
   "id": "9aa139bc",
   "metadata": {},
   "outputs": [
    {
     "data": {
      "text/plain": [
       "89174"
      ]
     },
     "execution_count": 152,
     "metadata": {},
     "output_type": "execute_result"
    }
   ],
   "source": [
    "df.shape[0]"
   ]
  },
  {
   "cell_type": "code",
   "execution_count": 153,
   "id": "8a41d8aa",
   "metadata": {},
   "outputs": [
    {
     "data": {
      "text/plain": [
       "89174"
      ]
     },
     "execution_count": 153,
     "metadata": {},
     "output_type": "execute_result"
    }
   ],
   "source": [
    "new_df.shape[0]"
   ]
  },
  {
   "cell_type": "code",
   "execution_count": 154,
   "id": "a5339c93",
   "metadata": {},
   "outputs": [
    {
     "data": {
      "text/plain": [
       "89174"
      ]
     },
     "execution_count": 154,
     "metadata": {},
     "output_type": "execute_result"
    }
   ],
   "source": [
    "big_df.shape[0]"
   ]
  },
  {
   "cell_type": "code",
   "execution_count": 116,
   "id": "f8f3633f",
   "metadata": {},
   "outputs": [
    {
     "data": {
      "text/plain": [
       "753"
      ]
     },
     "execution_count": 116,
     "metadata": {},
     "output_type": "execute_result"
    }
   ],
   "source": [
    "df['finish_dttm.1'].isna().sum()"
   ]
  },
  {
   "cell_type": "code",
   "execution_count": 117,
   "id": "09eeeb3b",
   "metadata": {},
   "outputs": [
    {
     "data": {
      "text/plain": [
       "89174"
      ]
     },
     "execution_count": 117,
     "metadata": {},
     "output_type": "execute_result"
    }
   ],
   "source": [
    "df['finish_dttm.1'].shape[0]"
   ]
  },
  {
   "cell_type": "code",
   "execution_count": 118,
   "id": "627b87d2",
   "metadata": {},
   "outputs": [
    {
     "data": {
      "text/plain": [
       "0"
      ]
     },
     "execution_count": 118,
     "metadata": {},
     "output_type": "execute_result"
    }
   ],
   "source": [
    "df['finish_dttm'].isna().sum()"
   ]
  },
  {
   "cell_type": "code",
   "execution_count": 119,
   "id": "c2800528",
   "metadata": {},
   "outputs": [
    {
     "data": {
      "text/plain": [
       "0"
      ]
     },
     "execution_count": 119,
     "metadata": {},
     "output_type": "execute_result"
    }
   ],
   "source": [
    "df['create_dttm'].isna().sum()"
   ]
  },
  {
   "cell_type": "code",
   "execution_count": 120,
   "id": "695d33be",
   "metadata": {},
   "outputs": [
    {
     "data": {
      "text/html": [
       "<div>\n",
       "<style scoped>\n",
       "    .dataframe tbody tr th:only-of-type {\n",
       "        vertical-align: middle;\n",
       "    }\n",
       "\n",
       "    .dataframe tbody tr th {\n",
       "        vertical-align: top;\n",
       "    }\n",
       "\n",
       "    .dataframe thead th {\n",
       "        text-align: right;\n",
       "    }\n",
       "</style>\n",
       "<table border=\"1\" class=\"dataframe\">\n",
       "  <thead>\n",
       "    <tr style=\"text-align: right;\">\n",
       "      <th></th>\n",
       "      <th>agent_login</th>\n",
       "      <th>finish_dttm</th>\n",
       "      <th>duration_sec</th>\n",
       "      <th>source_system_cd</th>\n",
       "      <th>finish_dttm.1</th>\n",
       "      <th>hid</th>\n",
       "      <th>using_flg</th>\n",
       "      <th>hit_status_result_desc</th>\n",
       "      <th>queue_desc</th>\n",
       "      <th>group_nm</th>\n",
       "      <th>management_nm</th>\n",
       "      <th>agent_login.1</th>\n",
       "      <th>horoscope</th>\n",
       "    </tr>\n",
       "  </thead>\n",
       "  <tbody>\n",
       "    <tr>\n",
       "      <th>0</th>\n",
       "      <td>lyangama</td>\n",
       "      <td>2022-08-01 12:52:25</td>\n",
       "      <td>0.00</td>\n",
       "      <td>GI</td>\n",
       "      <td>2022-08-01 15:35:39</td>\n",
       "      <td>4</td>\n",
       "      <td>NaN</td>\n",
       "      <td>Недозвон</td>\n",
       "      <td>Очередь 143</td>\n",
       "      <td>Группа 30</td>\n",
       "      <td>Управление КЦ Чизан</td>\n",
       "      <td>lyangama</td>\n",
       "      <td>Козерог</td>\n",
       "    </tr>\n",
       "    <tr>\n",
       "      <th>1</th>\n",
       "      <td>enkoiion</td>\n",
       "      <td>2022-08-08 10:46:46</td>\n",
       "      <td>12.53</td>\n",
       "      <td>GI</td>\n",
       "      <td>2022-08-17 11:23:53</td>\n",
       "      <td>3</td>\n",
       "      <td>NaN</td>\n",
       "      <td>Дозвон, Перезвонить</td>\n",
       "      <td>Очередь 4</td>\n",
       "      <td>Группа 20</td>\n",
       "      <td>Управление КЦ Мас</td>\n",
       "      <td>enkoiion</td>\n",
       "      <td>Козерог</td>\n",
       "    </tr>\n",
       "    <tr>\n",
       "      <th>2</th>\n",
       "      <td>kinalapo</td>\n",
       "      <td>2022-08-16 14:16:03</td>\n",
       "      <td>0.00</td>\n",
       "      <td>GI</td>\n",
       "      <td>2022-09-22 10:57:30</td>\n",
       "      <td>4</td>\n",
       "      <td>NaN</td>\n",
       "      <td>Недозвон</td>\n",
       "      <td>Очередь 58</td>\n",
       "      <td>Группа 5</td>\n",
       "      <td>Управление КЦ Ромашка</td>\n",
       "      <td>kinalapo</td>\n",
       "      <td>Козерог</td>\n",
       "    </tr>\n",
       "    <tr>\n",
       "      <th>3</th>\n",
       "      <td>kinasgsa</td>\n",
       "      <td>2022-08-22 18:38:13</td>\n",
       "      <td>0.00</td>\n",
       "      <td>GI</td>\n",
       "      <td>2022-08-30 12:59:05</td>\n",
       "      <td>4</td>\n",
       "      <td>NaN</td>\n",
       "      <td>Недозвон</td>\n",
       "      <td>Очередь 79</td>\n",
       "      <td>Группа 19</td>\n",
       "      <td>Управление КЦ Верс</td>\n",
       "      <td>kinasgsa</td>\n",
       "      <td>Козерог</td>\n",
       "    </tr>\n",
       "    <tr>\n",
       "      <th>4</th>\n",
       "      <td>ikovnisu</td>\n",
       "      <td>2022-08-23 10:38:24</td>\n",
       "      <td>128.47</td>\n",
       "      <td>GI</td>\n",
       "      <td>2022-08-23 10:38:33</td>\n",
       "      <td>2</td>\n",
       "      <td>NaN</td>\n",
       "      <td>Дозвон, Отказ</td>\n",
       "      <td>Очередь 43</td>\n",
       "      <td>Группа 31</td>\n",
       "      <td>Управление КЦ Казан</td>\n",
       "      <td>ikovnisu</td>\n",
       "      <td>Козерог</td>\n",
       "    </tr>\n",
       "    <tr>\n",
       "      <th>...</th>\n",
       "      <td>...</td>\n",
       "      <td>...</td>\n",
       "      <td>...</td>\n",
       "      <td>...</td>\n",
       "      <td>...</td>\n",
       "      <td>...</td>\n",
       "      <td>...</td>\n",
       "      <td>...</td>\n",
       "      <td>...</td>\n",
       "      <td>...</td>\n",
       "      <td>...</td>\n",
       "      <td>...</td>\n",
       "      <td>...</td>\n",
       "    </tr>\n",
       "    <tr>\n",
       "      <th>89169</th>\n",
       "      <td>0514adan</td>\n",
       "      <td>2022-08-23 12:00:38</td>\n",
       "      <td>154.16</td>\n",
       "      <td>FW</td>\n",
       "      <td>2022-08-23 12:00:38</td>\n",
       "      <td>4</td>\n",
       "      <td>NaN</td>\n",
       "      <td>Дозвон, Отказ</td>\n",
       "      <td>Очередь 24</td>\n",
       "      <td>Группа 43</td>\n",
       "      <td>Управление КЦ Мерс</td>\n",
       "      <td>0514adan</td>\n",
       "      <td>Дева</td>\n",
       "    </tr>\n",
       "    <tr>\n",
       "      <th>89170</th>\n",
       "      <td>0553nman</td>\n",
       "      <td>2022-08-29 14:49:23</td>\n",
       "      <td>0.00</td>\n",
       "      <td>GI</td>\n",
       "      <td>2022-08-30 18:09:17</td>\n",
       "      <td>3</td>\n",
       "      <td>NaN</td>\n",
       "      <td>Недозвон</td>\n",
       "      <td>Очередь 36</td>\n",
       "      <td>Группа 36</td>\n",
       "      <td>Управление КЦ Чизан</td>\n",
       "      <td>0553nman</td>\n",
       "      <td>Дева</td>\n",
       "    </tr>\n",
       "    <tr>\n",
       "      <th>89171</th>\n",
       "      <td>chicvvpo</td>\n",
       "      <td>2022-08-02 18:42:23</td>\n",
       "      <td>0.00</td>\n",
       "      <td>GI</td>\n",
       "      <td>2022-08-08 09:14:57</td>\n",
       "      <td>2</td>\n",
       "      <td>NaN</td>\n",
       "      <td>Недозвон</td>\n",
       "      <td>Очередь 103</td>\n",
       "      <td>Группа 25</td>\n",
       "      <td>Управление КЦ Сас</td>\n",
       "      <td>chicvvpo</td>\n",
       "      <td>Рак</td>\n",
       "    </tr>\n",
       "    <tr>\n",
       "      <th>89172</th>\n",
       "      <td>0422aeka</td>\n",
       "      <td>2022-08-11 10:36:20</td>\n",
       "      <td>0.00</td>\n",
       "      <td>GI</td>\n",
       "      <td>2022-09-15 13:53:03</td>\n",
       "      <td>4</td>\n",
       "      <td>NaN</td>\n",
       "      <td>Недозвон</td>\n",
       "      <td>Очередь 58</td>\n",
       "      <td>Группа 5</td>\n",
       "      <td>Управление КЦ Ромашка</td>\n",
       "      <td>0422aeka</td>\n",
       "      <td>Водолей</td>\n",
       "    </tr>\n",
       "    <tr>\n",
       "      <th>89173</th>\n",
       "      <td>eevamvxa</td>\n",
       "      <td>2022-08-26 16:14:43</td>\n",
       "      <td>154.64</td>\n",
       "      <td>CM</td>\n",
       "      <td>2022-09-06 06:34:23</td>\n",
       "      <td>2</td>\n",
       "      <td>NaN</td>\n",
       "      <td>Дозвон, Перезвонить</td>\n",
       "      <td>Очередь 89</td>\n",
       "      <td>Группа 13</td>\n",
       "      <td>Управление КЦ Дирис</td>\n",
       "      <td>eevamvxa</td>\n",
       "      <td>Скорпион</td>\n",
       "    </tr>\n",
       "  </tbody>\n",
       "</table>\n",
       "<p>89174 rows × 13 columns</p>\n",
       "</div>"
      ],
      "text/plain": [
       "      agent_login          finish_dttm  duration_sec source_system_cd  \\\n",
       "0        lyangama  2022-08-01 12:52:25          0.00               GI   \n",
       "1        enkoiion  2022-08-08 10:46:46         12.53               GI   \n",
       "2        kinalapo  2022-08-16 14:16:03          0.00               GI   \n",
       "3        kinasgsa  2022-08-22 18:38:13          0.00               GI   \n",
       "4        ikovnisu  2022-08-23 10:38:24        128.47               GI   \n",
       "...           ...                  ...           ...              ...   \n",
       "89169    0514adan  2022-08-23 12:00:38        154.16               FW   \n",
       "89170    0553nman  2022-08-29 14:49:23          0.00               GI   \n",
       "89171    chicvvpo  2022-08-02 18:42:23          0.00               GI   \n",
       "89172    0422aeka  2022-08-11 10:36:20          0.00               GI   \n",
       "89173    eevamvxa  2022-08-26 16:14:43        154.64               CM   \n",
       "\n",
       "             finish_dttm.1  hid  using_flg hit_status_result_desc  \\\n",
       "0      2022-08-01 15:35:39    4        NaN               Недозвон   \n",
       "1      2022-08-17 11:23:53    3        NaN    Дозвон, Перезвонить   \n",
       "2      2022-09-22 10:57:30    4        NaN               Недозвон   \n",
       "3      2022-08-30 12:59:05    4        NaN               Недозвон   \n",
       "4      2022-08-23 10:38:33    2        NaN          Дозвон, Отказ   \n",
       "...                    ...  ...        ...                    ...   \n",
       "89169  2022-08-23 12:00:38    4        NaN          Дозвон, Отказ   \n",
       "89170  2022-08-30 18:09:17    3        NaN               Недозвон   \n",
       "89171  2022-08-08 09:14:57    2        NaN               Недозвон   \n",
       "89172  2022-09-15 13:53:03    4        NaN               Недозвон   \n",
       "89173  2022-09-06 06:34:23    2        NaN    Дозвон, Перезвонить   \n",
       "\n",
       "        queue_desc   group_nm          management_nm agent_login.1 horoscope  \n",
       "0      Очередь 143  Группа 30    Управление КЦ Чизан      lyangama   Козерог  \n",
       "1        Очередь 4  Группа 20      Управление КЦ Мас      enkoiion   Козерог  \n",
       "2       Очередь 58   Группа 5  Управление КЦ Ромашка      kinalapo   Козерог  \n",
       "3       Очередь 79  Группа 19     Управление КЦ Верс      kinasgsa   Козерог  \n",
       "4       Очередь 43  Группа 31    Управление КЦ Казан      ikovnisu   Козерог  \n",
       "...            ...        ...                    ...           ...       ...  \n",
       "89169   Очередь 24  Группа 43     Управление КЦ Мерс      0514adan      Дева  \n",
       "89170   Очередь 36  Группа 36    Управление КЦ Чизан      0553nman      Дева  \n",
       "89171  Очередь 103  Группа 25      Управление КЦ Сас      chicvvpo       Рак  \n",
       "89172   Очередь 58   Группа 5  Управление КЦ Ромашка      0422aeka   Водолей  \n",
       "89173   Очередь 89  Группа 13    Управление КЦ Дирис      eevamvxa  Скорпион  \n",
       "\n",
       "[89174 rows x 13 columns]"
      ]
     },
     "execution_count": 120,
     "metadata": {},
     "output_type": "execute_result"
    }
   ],
   "source": [
    "df.drop(['finish_dttm.1', 'using_flg'], axis=1)"
   ]
  },
  {
   "cell_type": "markdown",
   "id": "c669b0b0",
   "metadata": {},
   "source": [
    "## тесты для power bi"
   ]
  },
  {
   "cell_type": "code",
   "execution_count": 157,
   "id": "aa9acede",
   "metadata": {},
   "outputs": [
    {
     "name": "stdout",
     "output_type": "stream",
     "text": [
      "CPU times: total: 0 ns\n",
      "Wall time: 0 ns\n"
     ]
    }
   ],
   "source": [
    "%time\n",
    "writer = pd.ExcelWriter('df.xlsx')\n",
    "df.to_excel(writer, sheet_name='Sheet1', index=False)\n",
    "writer.save()"
   ]
  },
  {
   "cell_type": "code",
   "execution_count": null,
   "id": "697e1147",
   "metadata": {},
   "outputs": [],
   "source": [
    "# df_ex = pd.read_excel('new_df.xlsx')"
   ]
  },
  {
   "cell_type": "code",
   "execution_count": 61,
   "id": "3923ad7a",
   "metadata": {},
   "outputs": [],
   "source": [
    "del task, call, action, product, emp_x_org_gr, result, queue, group, mngmnt, horoscope, big_df, new_df"
   ]
  },
  {
   "cell_type": "code",
   "execution_count": 63,
   "id": "6c8b15dd",
   "metadata": {
    "scrolled": true
   },
   "outputs": [
    {
     "data": {
      "text/html": [
       "<div>\n",
       "<style scoped>\n",
       "    .dataframe tbody tr th:only-of-type {\n",
       "        vertical-align: middle;\n",
       "    }\n",
       "\n",
       "    .dataframe tbody tr th {\n",
       "        vertical-align: top;\n",
       "    }\n",
       "\n",
       "    .dataframe thead th {\n",
       "        text-align: right;\n",
       "    }\n",
       "</style>\n",
       "<table border=\"1\" class=\"dataframe\">\n",
       "  <thead>\n",
       "    <tr style=\"text-align: right;\">\n",
       "      <th></th>\n",
       "      <th>agent_login</th>\n",
       "      <th>finish_dttm</th>\n",
       "      <th>duration_sec</th>\n",
       "      <th>source_system_cd</th>\n",
       "      <th>create_dttm</th>\n",
       "      <th>hid</th>\n",
       "      <th>hit_status_result_desc</th>\n",
       "      <th>queue_desc</th>\n",
       "      <th>group_nm</th>\n",
       "      <th>management_nm</th>\n",
       "      <th>agent_login.1</th>\n",
       "      <th>horoscope</th>\n",
       "    </tr>\n",
       "  </thead>\n",
       "  <tbody>\n",
       "    <tr>\n",
       "      <th>0</th>\n",
       "      <td>lyangama</td>\n",
       "      <td>2022-08-01 12:52:25</td>\n",
       "      <td>0.00</td>\n",
       "      <td>GI</td>\n",
       "      <td>2022-08-01 00:46:37</td>\n",
       "      <td>4</td>\n",
       "      <td>Недозвон</td>\n",
       "      <td>Очередь 143</td>\n",
       "      <td>Группа 30</td>\n",
       "      <td>Управление КЦ Чизан</td>\n",
       "      <td>lyangama</td>\n",
       "      <td>Козерог</td>\n",
       "    </tr>\n",
       "    <tr>\n",
       "      <th>1</th>\n",
       "      <td>enkoiion</td>\n",
       "      <td>2022-08-08 10:46:46</td>\n",
       "      <td>12.53</td>\n",
       "      <td>GI</td>\n",
       "      <td>2022-08-06 11:24:23</td>\n",
       "      <td>3</td>\n",
       "      <td>Дозвон, Перезвонить</td>\n",
       "      <td>Очередь 4</td>\n",
       "      <td>Группа 20</td>\n",
       "      <td>Управление КЦ Мас</td>\n",
       "      <td>enkoiion</td>\n",
       "      <td>Козерог</td>\n",
       "    </tr>\n",
       "  </tbody>\n",
       "</table>\n",
       "</div>"
      ],
      "text/plain": [
       "  agent_login         finish_dttm  duration_sec source_system_cd  \\\n",
       "0    lyangama 2022-08-01 12:52:25          0.00               GI   \n",
       "1    enkoiion 2022-08-08 10:46:46         12.53               GI   \n",
       "\n",
       "          create_dttm  hid hit_status_result_desc   queue_desc   group_nm  \\\n",
       "0 2022-08-01 00:46:37    4               Недозвон  Очередь 143  Группа 30   \n",
       "1 2022-08-06 11:24:23    3    Дозвон, Перезвонить    Очередь 4  Группа 20   \n",
       "\n",
       "         management_nm agent_login.1 horoscope  \n",
       "0  Управление КЦ Чизан      lyangama   Козерог  \n",
       "1    Управление КЦ Мас      enkoiion   Козерог  "
      ]
     },
     "execution_count": 63,
     "metadata": {},
     "output_type": "execute_result"
    }
   ],
   "source": [
    "df1.head(2)"
   ]
  },
  {
   "cell_type": "code",
   "execution_count": 65,
   "id": "d94bc8a5",
   "metadata": {},
   "outputs": [
    {
     "data": {
      "text/plain": [
       "208.12"
      ]
     },
     "execution_count": 65,
     "metadata": {},
     "output_type": "execute_result"
    }
   ],
   "source": [
    "df1['duration_sec'].max()"
   ]
  },
  {
   "cell_type": "code",
   "execution_count": 67,
   "id": "07390287",
   "metadata": {},
   "outputs": [
    {
     "data": {
      "text/html": [
       "<div>\n",
       "<style scoped>\n",
       "    .dataframe tbody tr th:only-of-type {\n",
       "        vertical-align: middle;\n",
       "    }\n",
       "\n",
       "    .dataframe tbody tr th {\n",
       "        vertical-align: top;\n",
       "    }\n",
       "\n",
       "    .dataframe thead th {\n",
       "        text-align: right;\n",
       "    }\n",
       "</style>\n",
       "<table border=\"1\" class=\"dataframe\">\n",
       "  <thead>\n",
       "    <tr style=\"text-align: right;\">\n",
       "      <th></th>\n",
       "      <th>agent_login</th>\n",
       "      <th>finish_dttm</th>\n",
       "      <th>duration_sec</th>\n",
       "      <th>source_system_cd</th>\n",
       "      <th>create_dttm</th>\n",
       "      <th>hid</th>\n",
       "      <th>hit_status_result_desc</th>\n",
       "      <th>queue_desc</th>\n",
       "      <th>group_nm</th>\n",
       "      <th>management_nm</th>\n",
       "      <th>agent_login.1</th>\n",
       "      <th>horoscope</th>\n",
       "    </tr>\n",
       "  </thead>\n",
       "  <tbody>\n",
       "    <tr>\n",
       "      <th>8</th>\n",
       "      <td>novabbmu</td>\n",
       "      <td>2022-08-26 11:47:11</td>\n",
       "      <td>208.12</td>\n",
       "      <td>FW</td>\n",
       "      <td>2022-08-24 04:11:24</td>\n",
       "      <td>4</td>\n",
       "      <td>Дозвон, Отказ</td>\n",
       "      <td>Очередь 111</td>\n",
       "      <td>Группа 15</td>\n",
       "      <td>Управление КЦ Шоколад</td>\n",
       "      <td>novabbmu</td>\n",
       "      <td>Козерог</td>\n",
       "    </tr>\n",
       "    <tr>\n",
       "      <th>87</th>\n",
       "      <td>tyanmadz</td>\n",
       "      <td>2022-08-05 20:49:01</td>\n",
       "      <td>204.25</td>\n",
       "      <td>GI</td>\n",
       "      <td>2022-08-02 17:03:43</td>\n",
       "      <td>4</td>\n",
       "      <td>Дозвон, Отказ</td>\n",
       "      <td>Очередь 123</td>\n",
       "      <td>Группа 36</td>\n",
       "      <td>Управление КЦ Чизан</td>\n",
       "      <td>tyanmadz</td>\n",
       "      <td>Рыбы</td>\n",
       "    </tr>\n",
       "    <tr>\n",
       "      <th>32</th>\n",
       "      <td>rinayuvi</td>\n",
       "      <td>2022-08-13 17:27:00</td>\n",
       "      <td>201.50</td>\n",
       "      <td>GI</td>\n",
       "      <td>2022-08-13 13:22:48</td>\n",
       "      <td>4</td>\n",
       "      <td>Дозвон, Отказ</td>\n",
       "      <td>Очередь 8</td>\n",
       "      <td>Группа 47</td>\n",
       "      <td>Управление КЦ Черс</td>\n",
       "      <td>rinayuvi</td>\n",
       "      <td>Козерог</td>\n",
       "    </tr>\n",
       "  </tbody>\n",
       "</table>\n",
       "</div>"
      ],
      "text/plain": [
       "   agent_login         finish_dttm  duration_sec source_system_cd  \\\n",
       "8     novabbmu 2022-08-26 11:47:11        208.12               FW   \n",
       "87    tyanmadz 2022-08-05 20:49:01        204.25               GI   \n",
       "32    rinayuvi 2022-08-13 17:27:00        201.50               GI   \n",
       "\n",
       "           create_dttm  hid hit_status_result_desc   queue_desc   group_nm  \\\n",
       "8  2022-08-24 04:11:24    4          Дозвон, Отказ  Очередь 111  Группа 15   \n",
       "87 2022-08-02 17:03:43    4          Дозвон, Отказ  Очередь 123  Группа 36   \n",
       "32 2022-08-13 13:22:48    4          Дозвон, Отказ    Очередь 8  Группа 47   \n",
       "\n",
       "            management_nm agent_login.1 horoscope  \n",
       "8   Управление КЦ Шоколад      novabbmu   Козерог  \n",
       "87    Управление КЦ Чизан      tyanmadz      Рыбы  \n",
       "32     Управление КЦ Черс      rinayuvi   Козерог  "
      ]
     },
     "execution_count": 67,
     "metadata": {},
     "output_type": "execute_result"
    }
   ],
   "source": [
    "df1.sort_values(by='duration_sec', ascending=False).head(3)"
   ]
  },
  {
   "cell_type": "code",
   "execution_count": 69,
   "id": "dec9d7cb",
   "metadata": {},
   "outputs": [
    {
     "data": {
      "text/html": [
       "<div>\n",
       "<style scoped>\n",
       "    .dataframe tbody tr th:only-of-type {\n",
       "        vertical-align: middle;\n",
       "    }\n",
       "\n",
       "    .dataframe tbody tr th {\n",
       "        vertical-align: top;\n",
       "    }\n",
       "\n",
       "    .dataframe thead th {\n",
       "        text-align: right;\n",
       "    }\n",
       "</style>\n",
       "<table border=\"1\" class=\"dataframe\">\n",
       "  <thead>\n",
       "    <tr style=\"text-align: right;\">\n",
       "      <th></th>\n",
       "      <th>agent_login</th>\n",
       "      <th>finish_dttm</th>\n",
       "      <th>duration_sec</th>\n",
       "      <th>source_system_cd</th>\n",
       "      <th>create_dttm</th>\n",
       "      <th>hid</th>\n",
       "      <th>hit_status_result_desc</th>\n",
       "      <th>queue_desc</th>\n",
       "      <th>group_nm</th>\n",
       "      <th>management_nm</th>\n",
       "      <th>agent_login.1</th>\n",
       "      <th>horoscope</th>\n",
       "    </tr>\n",
       "  </thead>\n",
       "  <tbody>\n",
       "  </tbody>\n",
       "</table>\n",
       "</div>"
      ],
      "text/plain": [
       "Empty DataFrame\n",
       "Columns: [agent_login, finish_dttm, duration_sec, source_system_cd, create_dttm, hid, hit_status_result_desc, queue_desc, group_nm, management_nm, agent_login.1, horoscope]\n",
       "Index: []"
      ]
     },
     "execution_count": 69,
     "metadata": {},
     "output_type": "execute_result"
    }
   ],
   "source": [
    "df1[df1['agent_login'] == '0212legr']"
   ]
  },
  {
   "cell_type": "code",
   "execution_count": null,
   "id": "85a69709",
   "metadata": {},
   "outputs": [],
   "source": []
  },
  {
   "cell_type": "code",
   "execution_count": 107,
   "id": "de4ce2f0",
   "metadata": {},
   "outputs": [],
   "source": [
    "# df.drop(['using_flg'], axis=1)"
   ]
  },
  {
   "cell_type": "code",
   "execution_count": 108,
   "id": "9d762946",
   "metadata": {},
   "outputs": [
    {
     "data": {
      "text/plain": [
       "Index(['agent_login', 'finish_dttm', 'duration_sec', 'source_system_cd',\n",
       "       'create_dttm', 'finish_dttm.1', 'hid', 'using_flg',\n",
       "       'hit_status_result_desc', 'queue_desc', 'group_nm', 'management_nm',\n",
       "       'agent_login.1', 'horoscope'],\n",
       "      dtype='object')"
      ]
     },
     "execution_count": 108,
     "metadata": {},
     "output_type": "execute_result"
    }
   ],
   "source": [
    "df.columns"
   ]
  },
  {
   "cell_type": "code",
   "execution_count": null,
   "id": "9a3bb8d6",
   "metadata": {},
   "outputs": [],
   "source": []
  },
  {
   "cell_type": "code",
   "execution_count": null,
   "id": "36d846f7",
   "metadata": {},
   "outputs": [],
   "source": []
  },
  {
   "cell_type": "code",
   "execution_count": null,
   "id": "66c1f0d6",
   "metadata": {},
   "outputs": [],
   "source": []
  },
  {
   "cell_type": "code",
   "execution_count": 102,
   "id": "43373393",
   "metadata": {
    "scrolled": false
   },
   "outputs": [
    {
     "data": {
      "text/plain": [
       "<bound method Series.unique of 0       NaN\n",
       "1       NaN\n",
       "2       NaN\n",
       "3       NaN\n",
       "4       NaN\n",
       "         ..\n",
       "89169   NaN\n",
       "89170   NaN\n",
       "89171   NaN\n",
       "89172   NaN\n",
       "89173   NaN\n",
       "Name: using_flg, Length: 89174, dtype: float64>"
      ]
     },
     "execution_count": 102,
     "metadata": {},
     "output_type": "execute_result"
    }
   ],
   "source": [
    "df['using_flg'].unique"
   ]
  },
  {
   "cell_type": "code",
   "execution_count": 91,
   "id": "42a1f839",
   "metadata": {},
   "outputs": [],
   "source": [
    "df['agent_login'] = df['agent_login'].astype(str)"
   ]
  },
  {
   "cell_type": "code",
   "execution_count": 94,
   "id": "721feac1",
   "metadata": {},
   "outputs": [
    {
     "data": {
      "text/plain": [
       "agent_login                object\n",
       "finish_dttm                object\n",
       "duration_sec              float64\n",
       "source_system_cd           object\n",
       "create_dttm                object\n",
       "finish_dttm.1              object\n",
       "hid                         int64\n",
       "using_flg                 float64\n",
       "hit_status_result_desc     object\n",
       "queue_desc                 object\n",
       "group_nm                   object\n",
       "management_nm              object\n",
       "agent_login.1              object\n",
       "horoscope                  object\n",
       "dtype: object"
      ]
     },
     "execution_count": 94,
     "metadata": {},
     "output_type": "execute_result"
    }
   ],
   "source": [
    "df.dtypes"
   ]
  },
  {
   "cell_type": "code",
   "execution_count": 93,
   "id": "0d6e8448",
   "metadata": {},
   "outputs": [
    {
     "name": "stdout",
     "output_type": "stream",
     "text": [
      "Это DataFrame\n"
     ]
    }
   ],
   "source": [
    "# Предположим, что ваша переменная называется df\n",
    "if isinstance(df, pd.DataFrame):\n",
    "    print(\"Это DataFrame\")\n",
    "else:\n",
    "    print(\"Это не DataFrame\")"
   ]
  },
  {
   "cell_type": "code",
   "execution_count": 98,
   "id": "cab64422",
   "metadata": {},
   "outputs": [],
   "source": [
    "# new_df['agent_login'] = new_df['agent_login'].astype('string')"
   ]
  },
  {
   "cell_type": "markdown",
   "id": "5932c03b",
   "metadata": {},
   "source": [
    "# текущая позиция"
   ]
  },
  {
   "cell_type": "code",
   "execution_count": null,
   "id": "36485b7c",
   "metadata": {},
   "outputs": [],
   "source": []
  },
  {
   "cell_type": "code",
   "execution_count": null,
   "id": "e150c687",
   "metadata": {},
   "outputs": [],
   "source": []
  },
  {
   "cell_type": "code",
   "execution_count": null,
   "id": "3b5a4822",
   "metadata": {},
   "outputs": [],
   "source": []
  },
  {
   "cell_type": "code",
   "execution_count": null,
   "id": "9a4373b4",
   "metadata": {},
   "outputs": [],
   "source": []
  },
  {
   "cell_type": "code",
   "execution_count": null,
   "id": "acdafaf0",
   "metadata": {},
   "outputs": [],
   "source": []
  },
  {
   "cell_type": "code",
   "execution_count": null,
   "id": "201e9ffc",
   "metadata": {},
   "outputs": [],
   "source": []
  },
  {
   "cell_type": "code",
   "execution_count": null,
   "id": "b187608f",
   "metadata": {},
   "outputs": [],
   "source": []
  },
  {
   "cell_type": "code",
   "execution_count": null,
   "id": "3b1d11fc",
   "metadata": {},
   "outputs": [],
   "source": []
  },
  {
   "cell_type": "code",
   "execution_count": null,
   "id": "b9fa39af",
   "metadata": {},
   "outputs": [],
   "source": [
    "# -----------------------------------------"
   ]
  },
  {
   "cell_type": "code",
   "execution_count": 99,
   "id": "0e5239bf",
   "metadata": {
    "scrolled": true
   },
   "outputs": [
    {
     "data": {
      "text/plain": [
       "89174"
      ]
     },
     "execution_count": 99,
     "metadata": {},
     "output_type": "execute_result"
    }
   ],
   "source": [
    "df_1['agent_login'].shape[0]"
   ]
  },
  {
   "cell_type": "code",
   "execution_count": 54,
   "id": "eaa550ba",
   "metadata": {},
   "outputs": [
    {
     "data": {
      "text/plain": [
       "array(['lyangama', 'enkoiion', 'kinalapo', ..., '6708eaki', '6950maso',\n",
       "       '2949gada'], dtype=object)"
      ]
     },
     "execution_count": 54,
     "metadata": {},
     "output_type": "execute_result"
    }
   ],
   "source": [
    "call['agent_login'].unique()"
   ]
  },
  {
   "cell_type": "code",
   "execution_count": 107,
   "id": "fa4a5992",
   "metadata": {},
   "outputs": [],
   "source": [
    "df_1 =pd.read_csv('new_df_s.csv', sep='$')"
   ]
  },
  {
   "cell_type": "code",
   "execution_count": 115,
   "id": "fcfcb982",
   "metadata": {},
   "outputs": [],
   "source": [
    "# del new_df"
   ]
  },
  {
   "cell_type": "code",
   "execution_count": 47,
   "id": "05590f55",
   "metadata": {},
   "outputs": [],
   "source": [
    "new_df =pd.read_csv('new_df_s.csv', sep='$')"
   ]
  },
  {
   "cell_type": "code",
   "execution_count": 55,
   "id": "b02cdff2",
   "metadata": {},
   "outputs": [
    {
     "data": {
      "text/plain": [
       "array(['alovmmma', '6446kmmi', 'zovaiaoz', ..., 'syanatki', 'novaaiba',\n",
       "       'uevakabi'], dtype=object)"
      ]
     },
     "execution_count": 55,
     "metadata": {},
     "output_type": "execute_result"
    }
   ],
   "source": [
    "df_ex['agent_login'].unique()"
   ]
  },
  {
   "cell_type": "code",
   "execution_count": 109,
   "id": "15494b6e",
   "metadata": {
    "scrolled": false
   },
   "outputs": [
    {
     "data": {
      "text/plain": [
       "array(['alovmmma', '6446kmmi', 'zovaiaoz', ..., 'syanatki', 'novaaiba',\n",
       "       'uevakabi'], dtype=object)"
      ]
     },
     "execution_count": 109,
     "metadata": {},
     "output_type": "execute_result"
    }
   ],
   "source": [
    "df_1['agent_login'].unique()"
   ]
  },
  {
   "cell_type": "code",
   "execution_count": 114,
   "id": "3be2ba3b",
   "metadata": {},
   "outputs": [
    {
     "data": {
      "text/plain": [
       "array(['alovmmma', '6446kmmi', 'zovaiaoz', ..., 'syanatki', 'novaaiba',\n",
       "       'uevakabi'], dtype=object)"
      ]
     },
     "execution_count": 114,
     "metadata": {},
     "output_type": "execute_result"
    }
   ],
   "source": [
    "pd.unique(df_1['agent_login'])"
   ]
  },
  {
   "cell_type": "code",
   "execution_count": 43,
   "id": "f1535293",
   "metadata": {},
   "outputs": [],
   "source": [
    "# new_df['using_flg'].unique()"
   ]
  },
  {
   "cell_type": "code",
   "execution_count": 48,
   "id": "ec8c5db1",
   "metadata": {},
   "outputs": [],
   "source": [
    "big_df.to_csv('big_df_s.csv', index=False, sep='$', encoding='cp1251')"
   ]
  },
  {
   "cell_type": "code",
   "execution_count": 49,
   "id": "0b17f19a",
   "metadata": {},
   "outputs": [],
   "source": [
    "big_df.to_csv('big_df_t.csv', index=False, sep='t', encoding='cp1251')"
   ]
  },
  {
   "cell_type": "code",
   "execution_count": null,
   "id": "e6d5f859",
   "metadata": {},
   "outputs": [],
   "source": []
  },
  {
   "cell_type": "code",
   "execution_count": null,
   "id": "3b0c2e18",
   "metadata": {},
   "outputs": [],
   "source": []
  },
  {
   "cell_type": "code",
   "execution_count": null,
   "id": "133e7c7d",
   "metadata": {},
   "outputs": [],
   "source": []
  },
  {
   "cell_type": "code",
   "execution_count": null,
   "id": "00ba3db3",
   "metadata": {},
   "outputs": [],
   "source": []
  },
  {
   "cell_type": "code",
   "execution_count": null,
   "id": "5d52e63d",
   "metadata": {},
   "outputs": [],
   "source": []
  },
  {
   "cell_type": "code",
   "execution_count": 50,
   "id": "8ace0d71",
   "metadata": {},
   "outputs": [
    {
     "name": "stdout",
     "output_type": "stream",
     "text": [
      "CPU times: total: 2min 15s\n",
      "Wall time: 2min 15s\n"
     ]
    }
   ],
   "source": [
    "%%time\n",
    "writer = pd.ExcelWriter('big_df.xlsx')\n",
    "big_df.to_excel(writer, sheet_name='Sheet1', index=False)\n",
    "writer.save()"
   ]
  },
  {
   "cell_type": "code",
   "execution_count": 51,
   "id": "c67d5f1d",
   "metadata": {},
   "outputs": [
    {
     "name": "stdout",
     "output_type": "stream",
     "text": [
      "CPU times: total: 1min 1s\n",
      "Wall time: 1min 1s\n"
     ]
    }
   ],
   "source": [
    "%%time\n",
    "writer = pd.ExcelWriter('new_df.xlsx')\n",
    "new_df.to_excel(writer, sheet_name='Sheet1', index=False)\n",
    "writer.save()"
   ]
  },
  {
   "cell_type": "code",
   "execution_count": 54,
   "id": "a3c44463",
   "metadata": {},
   "outputs": [
    {
     "data": {
      "text/plain": [
       "agent_login                object\n",
       "finish_dttm                object\n",
       "duration_sec              float64\n",
       "source_system_cd           object\n",
       "create_dttm                object\n",
       "finish_dttm                object\n",
       "hid                        object\n",
       "using_flg                  object\n",
       "hit_status_result_desc     object\n",
       "queue_desc                 object\n",
       "group_nm                   object\n",
       "management_nm              object\n",
       "agent_login                object\n",
       "horoscope                  object\n",
       "dtype: object"
      ]
     },
     "execution_count": 54,
     "metadata": {},
     "output_type": "execute_result"
    }
   ],
   "source": [
    "new_df.dtypes"
   ]
  },
  {
   "cell_type": "code",
   "execution_count": null,
   "id": "21481947",
   "metadata": {},
   "outputs": [],
   "source": []
  },
  {
   "cell_type": "code",
   "execution_count": 133,
   "id": "d179202e",
   "metadata": {},
   "outputs": [],
   "source": [
    "df_1 = df_ex.head(100).copy()"
   ]
  },
  {
   "cell_type": "code",
   "execution_count": 134,
   "id": "91dff5c2",
   "metadata": {},
   "outputs": [
    {
     "data": {
      "text/html": [
       "<div>\n",
       "<style scoped>\n",
       "    .dataframe tbody tr th:only-of-type {\n",
       "        vertical-align: middle;\n",
       "    }\n",
       "\n",
       "    .dataframe tbody tr th {\n",
       "        vertical-align: top;\n",
       "    }\n",
       "\n",
       "    .dataframe thead th {\n",
       "        text-align: right;\n",
       "    }\n",
       "</style>\n",
       "<table border=\"1\" class=\"dataframe\">\n",
       "  <thead>\n",
       "    <tr style=\"text-align: right;\">\n",
       "      <th></th>\n",
       "      <th>agent_login</th>\n",
       "      <th>finish_dttm</th>\n",
       "      <th>duration_sec</th>\n",
       "      <th>source_system_cd</th>\n",
       "      <th>create_dttm</th>\n",
       "      <th>finish_dttm.1</th>\n",
       "      <th>hid</th>\n",
       "      <th>using_flg</th>\n",
       "      <th>hit_status_result_desc</th>\n",
       "      <th>queue_desc</th>\n",
       "      <th>group_nm</th>\n",
       "      <th>management_nm</th>\n",
       "      <th>agent_login.1</th>\n",
       "      <th>horoscope</th>\n",
       "    </tr>\n",
       "  </thead>\n",
       "  <tbody>\n",
       "    <tr>\n",
       "      <th>0</th>\n",
       "      <td>lyangama</td>\n",
       "      <td>2022-08-01 12:52:25</td>\n",
       "      <td>0.00</td>\n",
       "      <td>GI</td>\n",
       "      <td>2022-08-01 00:46:37</td>\n",
       "      <td>2022-08-01 15:35:39</td>\n",
       "      <td>4</td>\n",
       "      <td>NaN</td>\n",
       "      <td>Недозвон</td>\n",
       "      <td>Очередь 143</td>\n",
       "      <td>Группа 30</td>\n",
       "      <td>Управление КЦ Чизан</td>\n",
       "      <td>lyangama</td>\n",
       "      <td>Козерог</td>\n",
       "    </tr>\n",
       "    <tr>\n",
       "      <th>1</th>\n",
       "      <td>enkoiion</td>\n",
       "      <td>2022-08-08 10:46:46</td>\n",
       "      <td>12.53</td>\n",
       "      <td>GI</td>\n",
       "      <td>2022-08-06 11:24:23</td>\n",
       "      <td>2022-08-17 11:23:53</td>\n",
       "      <td>3</td>\n",
       "      <td>NaN</td>\n",
       "      <td>Дозвон, Перезвонить</td>\n",
       "      <td>Очередь 4</td>\n",
       "      <td>Группа 20</td>\n",
       "      <td>Управление КЦ Мас</td>\n",
       "      <td>enkoiion</td>\n",
       "      <td>Козерог</td>\n",
       "    </tr>\n",
       "    <tr>\n",
       "      <th>2</th>\n",
       "      <td>kinalapo</td>\n",
       "      <td>2022-08-16 14:16:03</td>\n",
       "      <td>0.00</td>\n",
       "      <td>GI</td>\n",
       "      <td>2022-07-29 04:46:37</td>\n",
       "      <td>2022-09-22 10:57:30</td>\n",
       "      <td>4</td>\n",
       "      <td>NaN</td>\n",
       "      <td>Недозвон</td>\n",
       "      <td>Очередь 58</td>\n",
       "      <td>Группа 5</td>\n",
       "      <td>Управление КЦ Ромашка</td>\n",
       "      <td>kinalapo</td>\n",
       "      <td>Козерог</td>\n",
       "    </tr>\n",
       "  </tbody>\n",
       "</table>\n",
       "</div>"
      ],
      "text/plain": [
       "  agent_login          finish_dttm  duration_sec source_system_cd  \\\n",
       "0    lyangama  2022-08-01 12:52:25          0.00               GI   \n",
       "1    enkoiion  2022-08-08 10:46:46         12.53               GI   \n",
       "2    kinalapo  2022-08-16 14:16:03          0.00               GI   \n",
       "\n",
       "           create_dttm        finish_dttm.1  hid  using_flg  \\\n",
       "0  2022-08-01 00:46:37  2022-08-01 15:35:39    4        NaN   \n",
       "1  2022-08-06 11:24:23  2022-08-17 11:23:53    3        NaN   \n",
       "2  2022-07-29 04:46:37  2022-09-22 10:57:30    4        NaN   \n",
       "\n",
       "  hit_status_result_desc   queue_desc   group_nm          management_nm  \\\n",
       "0               Недозвон  Очередь 143  Группа 30    Управление КЦ Чизан   \n",
       "1    Дозвон, Перезвонить    Очередь 4  Группа 20      Управление КЦ Мас   \n",
       "2               Недозвон   Очередь 58   Группа 5  Управление КЦ Ромашка   \n",
       "\n",
       "  agent_login.1 horoscope  \n",
       "0      lyangama   Козерог  \n",
       "1      enkoiion   Козерог  \n",
       "2      kinalapo   Козерог  "
      ]
     },
     "execution_count": 134,
     "metadata": {},
     "output_type": "execute_result"
    }
   ],
   "source": [
    "df_1.head(3)"
   ]
  },
  {
   "cell_type": "code",
   "execution_count": 135,
   "id": "265f704a",
   "metadata": {},
   "outputs": [
    {
     "data": {
      "text/plain": [
       "Index(['agent_login', 'finish_dttm', 'duration_sec', 'source_system_cd',\n",
       "       'create_dttm', 'finish_dttm.1', 'hid', 'using_flg',\n",
       "       'hit_status_result_desc', 'queue_desc', 'group_nm', 'management_nm',\n",
       "       'agent_login.1', 'horoscope'],\n",
       "      dtype='object')"
      ]
     },
     "execution_count": 135,
     "metadata": {},
     "output_type": "execute_result"
    }
   ],
   "source": [
    "df_1.columns"
   ]
  },
  {
   "cell_type": "code",
   "execution_count": 137,
   "id": "f0f62198",
   "metadata": {},
   "outputs": [
    {
     "data": {
      "text/plain": [
       "14"
      ]
     },
     "execution_count": 137,
     "metadata": {},
     "output_type": "execute_result"
    }
   ],
   "source": [
    "df_1.shape[1]"
   ]
  },
  {
   "cell_type": "code",
   "execution_count": 59,
   "id": "0a9b3567",
   "metadata": {},
   "outputs": [],
   "source": [
    "profile = ProfileReport(big_df, title=\"df_1\")"
   ]
  },
  {
   "cell_type": "code",
   "execution_count": null,
   "id": "07b65756",
   "metadata": {},
   "outputs": [
    {
     "data": {
      "application/vnd.jupyter.widget-view+json": {
       "model_id": "27dff3405d63448bb059c8d88ec9c405",
       "version_major": 2,
       "version_minor": 0
      },
      "text/plain": [
       "Summarize dataset:   0%|          | 0/5 [00:00<?, ?it/s]"
      ]
     },
     "metadata": {},
     "output_type": "display_data"
    }
   ],
   "source": [
    "%%time\n",
    "profile.to_file(output_file=\"df_1.html\")"
   ]
  },
  {
   "cell_type": "code",
   "execution_count": null,
   "id": "92895e68",
   "metadata": {},
   "outputs": [],
   "source": [
    "profile.to_notebook_iframe()"
   ]
  },
  {
   "cell_type": "code",
   "execution_count": null,
   "id": "268ad07d",
   "metadata": {},
   "outputs": [],
   "source": [
    "**сылка на отчет на случай если во фрейме не откроется** https://disk.yandex.ru/d/wbSLSHKoLnSEGw"
   ]
  },
  {
   "cell_type": "markdown",
   "id": "d8445062",
   "metadata": {},
   "source": [
    "# Итоги"
   ]
  },
  {
   "cell_type": "markdown",
   "id": "70cb494d",
   "metadata": {},
   "source": [
    "Проведен анализ данных колцентра содержащих информацию озвонках и работе операторов за август 2022 года. <br>\n",
    "Аналитика данных не проводилась в разрезах кода систамы источника \"source_system_cd\" и очереди получения задания \"queue_desc\".<br>\n",
    " \n",
    "Врезультате анализа выявлено (постронично):<br>\n",
    "\n",
    "<b>Длительность</b>\n",
    "* Поле `using_flg` - флаг начала пользования продуктом, не содержит данных. Поэтому можно предположить, что ни кто из клиентов не начал пользоваться продуктом и не «утилизировался».\n",
    "* Поле `duration_sec` - длительность коммуникации в секундах соодержит аномалии. Они связаны с оператором `0212legr`. Средня длительность коммуникации этого оператора в разы превышает длительность остальных и составляет  `1971.56` сек. \n",
    "* Данные по коммуникации имеют явную сезонность. Сдесь в начале каждой недели происходит рост примерно до средины недели затем спад. Отдельно данные по сезонности приведены на диограме ниже. Фактически сезонность совпадает с диограммой длительности коммуникации распределенной по дням. *В power bi сезонность не делал, я не знаю где это в power bi делается:(*\n",
    "* Сезонность данных по длительности коммуникации в основном объясняется колличеством подключенных операторов. Ближе к выходным их мало в начале недели много.\n",
    "* Длительнось коммуникации и колличество звонков напрямую зависит от колличества операторов. (ну это и так очевидно)\n",
    "\n",
    "<b>Результутивность</b>\n",
    "* При звонках операторов наибольшее количество \"недозвонов\". Они составляют `56,59%`. Так же много звонков завершающихся отказами или просьбой перезвонить. Доля успешных звонков сотавляет `3,71%`. *Достаточно неплохой показатель.*\n",
    "* Самый востребованный продукт 4, его доля составляет `68,87%`. Продукт 2 - `19,95%`. На оставшиеся два продукта приходится `11,19%`.\n",
    "* Востребованность продуктов 4, 3 и 2 примерно повторяет график количества звонков распределенных по дням. Востребванность 1 возростает к концу месяца.\n",
    "\n",
    "<b>Группы и управления</b><br>\n",
    "\n",
    "Аномальным выглядит распределение агентов по группам. Сдесь 36 группа содержит 314 агентов, что почти в трижды больше значений в 30 и 29 группавх. В то же время 39 и 40 группы содержат вообще по одному человеку. <br>\n",
    "Однако, вполне возможно, номера группам присваивались по мере их создания и тогда 39 и 40 группы - последние созданные и еще не успели заполниться.<br>\n",
    "Так же, можно предположить, что группы распределены географичеси и их заполненность зависит от региона. Т.о. значения могут и не быть аномальными. *неплохо бы уточнить этот момент*.\n",
    "\n",
    "<b>Гороскоп</b><br>\n",
    "\n",
    "Подавляющее большинство агентов девы. Агентов с знаком зодиака лев, меньше всего. <br>\n",
    "Как следствие на долю дев приходиться больше всегопродуктов и званков с различными статусами, но само по себе распределение аналогично другим знакам зодиака.<br>\n",
    "Общее колличество агентов со знаком зодиака дева в 6 раз больше чем у весов и в 2,4 больше чем у стрельцов. Соответственно извонков они совершают больше в 5 раз. \n",
    "Однако колличество звонков совершенных стрельцами и весами одно и тоже при том, что стрельцов почти в три раза больше чем весов. И, вот тут сложно сказать, анамалия это или все же есть корреляция со знаком зодиака.\n",
    "\n",
    "<b>Что еще:</b><br>\n",
    "\n",
    "На основании этого датафрейма пожнопостроить пресказательные системы используя следубщие поля:\n",
    "\n",
    "1. 'finish_dttm' - Дата-время завершения коммуникации (временные ряды для прогнозирования длительности коммуникации или вероятности завершения коммуникации в определенное время)\n",
    "2. 'duration_sec' - длительность коммуникации (предсказание длительности будущих коммуникаций)\n",
    "3. 'hit_status_result_desc' - результат коммуникации (предсказание вероятности успешного завершения коммуникации или вероятности возникновения проблем)\n",
    "\n",
    "*Однако у нас явная сезонность и практически все параметры зависят от колличества операторов :(*"
   ]
  },
  {
   "cell_type": "code",
   "execution_count": null,
   "id": "9f0f30ce",
   "metadata": {},
   "outputs": [],
   "source": [
    "'agent_login' - логин оператора\n",
    "'finish_dttm' - Дата-время завершения коммуникации\n",
    "'duration_sec' - длительность комуникации\n",
    "'create_dttm' время создания задания\n",
    "'hid' - идентификатор продукта\n",
    "'hit_status_result_desc' - результат коммуникации\n",
    "'group_nm' - ргуппа в которую входит оператор\n",
    "'management_nm' - управление в которое входит группа\n"
   ]
  },
  {
   "cell_type": "code",
   "execution_count": null,
   "id": "3440c928",
   "metadata": {},
   "outputs": [],
   "source": []
  },
  {
   "cell_type": "code",
   "execution_count": null,
   "id": "d9da1efb",
   "metadata": {},
   "outputs": [],
   "source": []
  },
  {
   "cell_type": "code",
   "execution_count": null,
   "id": "ac610e90",
   "metadata": {},
   "outputs": [],
   "source": []
  },
  {
   "cell_type": "code",
   "execution_count": 131,
   "id": "c69038e7",
   "metadata": {
    "scrolled": true
   },
   "outputs": [
    {
     "data": {
      "text/plain": [
       "['task',\n",
       " 'call',\n",
       " 'action',\n",
       " 'product',\n",
       " 'emp_x_org_gr',\n",
       " 'result',\n",
       " 'queue',\n",
       " 'group',\n",
       " 'mngmnt',\n",
       " 'horoscope']"
      ]
     },
     "execution_count": 131,
     "metadata": {},
     "output_type": "execute_result"
    }
   ],
   "source": [
    "['task', 'call', 'action', 'product', 'emp_x_org_gr', 'result', 'queue', 'group', 'mngmnt', 'horoscope']"
   ]
  },
  {
   "cell_type": "code",
   "execution_count": 121,
   "id": "d037318c",
   "metadata": {},
   "outputs": [
    {
     "data": {
      "text/plain": [
       "50000"
      ]
     },
     "execution_count": 121,
     "metadata": {},
     "output_type": "execute_result"
    }
   ],
   "source": [
    "task.shape[0]"
   ]
  },
  {
   "cell_type": "code",
   "execution_count": 122,
   "id": "6e421193",
   "metadata": {},
   "outputs": [
    {
     "data": {
      "text/plain": [
       "89174"
      ]
     },
     "execution_count": 122,
     "metadata": {},
     "output_type": "execute_result"
    }
   ],
   "source": [
    "call.shape[0]"
   ]
  },
  {
   "cell_type": "code",
   "execution_count": 123,
   "id": "05dd6f82",
   "metadata": {},
   "outputs": [
    {
     "data": {
      "text/plain": [
       "89174"
      ]
     },
     "execution_count": 123,
     "metadata": {},
     "output_type": "execute_result"
    }
   ],
   "source": [
    "action.shape[0]"
   ]
  },
  {
   "cell_type": "code",
   "execution_count": 124,
   "id": "517a4744",
   "metadata": {},
   "outputs": [
    {
     "data": {
      "text/plain": [
       "89174"
      ]
     },
     "execution_count": 124,
     "metadata": {},
     "output_type": "execute_result"
    }
   ],
   "source": [
    "product.shape[0]"
   ]
  },
  {
   "cell_type": "code",
   "execution_count": 125,
   "id": "3a27b7dc",
   "metadata": {},
   "outputs": [
    {
     "data": {
      "text/plain": [
       "1962"
      ]
     },
     "execution_count": 125,
     "metadata": {},
     "output_type": "execute_result"
    }
   ],
   "source": [
    "emp_x_org_gr.shape[0]"
   ]
  },
  {
   "cell_type": "code",
   "execution_count": 126,
   "id": "74bce0a3",
   "metadata": {},
   "outputs": [
    {
     "data": {
      "text/plain": [
       "7"
      ]
     },
     "execution_count": 126,
     "metadata": {},
     "output_type": "execute_result"
    }
   ],
   "source": [
    "result.shape[0]"
   ]
  },
  {
   "cell_type": "code",
   "execution_count": 127,
   "id": "c4ccbd35",
   "metadata": {},
   "outputs": [
    {
     "data": {
      "text/plain": [
       "155"
      ]
     },
     "execution_count": 127,
     "metadata": {},
     "output_type": "execute_result"
    }
   ],
   "source": [
    "queue.shape[0]"
   ]
  },
  {
   "cell_type": "code",
   "execution_count": 128,
   "id": "c89b2b93",
   "metadata": {},
   "outputs": [
    {
     "data": {
      "text/plain": [
       "52"
      ]
     },
     "execution_count": 128,
     "metadata": {},
     "output_type": "execute_result"
    }
   ],
   "source": [
    "group.shape[0]"
   ]
  },
  {
   "cell_type": "code",
   "execution_count": 129,
   "id": "946914d7",
   "metadata": {},
   "outputs": [
    {
     "data": {
      "text/plain": [
       "1962"
      ]
     },
     "execution_count": 129,
     "metadata": {},
     "output_type": "execute_result"
    }
   ],
   "source": [
    "horoscope.shape[0]"
   ]
  },
  {
   "cell_type": "code",
   "execution_count": 130,
   "id": "39614fd6",
   "metadata": {},
   "outputs": [
    {
     "data": {
      "text/plain": [
       "1962"
      ]
     },
     "execution_count": 130,
     "metadata": {},
     "output_type": "execute_result"
    }
   ],
   "source": [
    "df.shape[0]"
   ]
  },
  {
   "cell_type": "code",
   "execution_count": null,
   "id": "ba227bd8",
   "metadata": {},
   "outputs": [],
   "source": []
  },
  {
   "cell_type": "code",
   "execution_count": 114,
   "id": "15023d77",
   "metadata": {},
   "outputs": [],
   "source": [
    "df_1 = df.copy()"
   ]
  },
  {
   "cell_type": "code",
   "execution_count": 110,
   "id": "94c1b8fd",
   "metadata": {
    "scrolled": true
   },
   "outputs": [
    {
     "name": "stdout",
     "output_type": "stream",
     "text": [
      "1145\n"
     ]
    }
   ],
   "source": [
    "result = df[df['finish_dttm'].astype(str).str.startswith('2022-08-01')]['agent_login'].nunique()\n",
    "print(result)"
   ]
  },
  {
   "cell_type": "code",
   "execution_count": 112,
   "id": "dec39b71",
   "metadata": {},
   "outputs": [
    {
     "name": "stdout",
     "output_type": "stream",
     "text": [
      "198\n"
     ]
    }
   ],
   "source": [
    "result = df[df['finish_dttm'].astype(str).str.startswith('2022-08-06')]['agent_login'].nunique()\n",
    "print(result)"
   ]
  },
  {
   "cell_type": "code",
   "execution_count": 111,
   "id": "4f446dcc",
   "metadata": {},
   "outputs": [
    {
     "data": {
      "text/plain": [
       "agent_login                       object\n",
       "finish_dttm               datetime64[ns]\n",
       "duration_sec                     float64\n",
       "source_system_cd                  object\n",
       "create_dttm               datetime64[ns]\n",
       "hid                                int64\n",
       "hit_status_result_desc            object\n",
       "queue_desc                        object\n",
       "group_nm                          object\n",
       "management_nm                     object\n",
       "agent_login.1                     object\n",
       "horoscope                         object\n",
       "dtype: object"
      ]
     },
     "execution_count": 111,
     "metadata": {},
     "output_type": "execute_result"
    }
   ],
   "source": [
    "df.dtypes"
   ]
  },
  {
   "cell_type": "code",
   "execution_count": 105,
   "id": "6851087b",
   "metadata": {},
   "outputs": [
    {
     "ename": "AttributeError",
     "evalue": "Can only use .str accessor with string values!",
     "output_type": "error",
     "traceback": [
      "\u001b[1;31m---------------------------------------------------------------------------\u001b[0m",
      "\u001b[1;31mAttributeError\u001b[0m                            Traceback (most recent call last)",
      "Input \u001b[1;32mIn [105]\u001b[0m, in \u001b[0;36m<cell line: 1>\u001b[1;34m()\u001b[0m\n\u001b[1;32m----> 1\u001b[0m result \u001b[38;5;241m=\u001b[39m df_1[\u001b[43mdf_1\u001b[49m\u001b[43m[\u001b[49m\u001b[38;5;124;43m'\u001b[39;49m\u001b[38;5;124;43mfinish_dttm\u001b[39;49m\u001b[38;5;124;43m'\u001b[39;49m\u001b[43m]\u001b[49m\u001b[38;5;241;43m.\u001b[39;49m\u001b[43mstr\u001b[49m\u001b[38;5;241m.\u001b[39mstartswith(\u001b[38;5;124m'\u001b[39m\u001b[38;5;124m2022-08-01\u001b[39m\u001b[38;5;124m'\u001b[39m)][\u001b[38;5;124m'\u001b[39m\u001b[38;5;124magent_login\u001b[39m\u001b[38;5;124m'\u001b[39m]\u001b[38;5;241m.\u001b[39mnunique()\n\u001b[0;32m      2\u001b[0m \u001b[38;5;28mprint\u001b[39m(result)\n",
      "File \u001b[1;32mC:\\ANACONDA\\envs\\ds_practicum_env\\lib\\site-packages\\pandas\\core\\generic.py:5461\u001b[0m, in \u001b[0;36mNDFrame.__getattr__\u001b[1;34m(self, name)\u001b[0m\n\u001b[0;32m   5454\u001b[0m \u001b[38;5;66;03m# Note: obj.x will always call obj.__getattribute__('x') prior to\u001b[39;00m\n\u001b[0;32m   5455\u001b[0m \u001b[38;5;66;03m# calling obj.__getattr__('x').\u001b[39;00m\n\u001b[0;32m   5456\u001b[0m \u001b[38;5;28;01mif\u001b[39;00m (\n\u001b[0;32m   5457\u001b[0m     name \u001b[38;5;129;01min\u001b[39;00m \u001b[38;5;28mself\u001b[39m\u001b[38;5;241m.\u001b[39m_internal_names_set\n\u001b[0;32m   5458\u001b[0m     \u001b[38;5;129;01mor\u001b[39;00m name \u001b[38;5;129;01min\u001b[39;00m \u001b[38;5;28mself\u001b[39m\u001b[38;5;241m.\u001b[39m_metadata\n\u001b[0;32m   5459\u001b[0m     \u001b[38;5;129;01mor\u001b[39;00m name \u001b[38;5;129;01min\u001b[39;00m \u001b[38;5;28mself\u001b[39m\u001b[38;5;241m.\u001b[39m_accessors\n\u001b[0;32m   5460\u001b[0m ):\n\u001b[1;32m-> 5461\u001b[0m     \u001b[38;5;28;01mreturn\u001b[39;00m \u001b[38;5;28;43mobject\u001b[39;49m\u001b[38;5;241;43m.\u001b[39;49m\u001b[38;5;21;43m__getattribute__\u001b[39;49m\u001b[43m(\u001b[49m\u001b[38;5;28;43mself\u001b[39;49m\u001b[43m,\u001b[49m\u001b[43m \u001b[49m\u001b[43mname\u001b[49m\u001b[43m)\u001b[49m\n\u001b[0;32m   5462\u001b[0m \u001b[38;5;28;01melse\u001b[39;00m:\n\u001b[0;32m   5463\u001b[0m     \u001b[38;5;28;01mif\u001b[39;00m \u001b[38;5;28mself\u001b[39m\u001b[38;5;241m.\u001b[39m_info_axis\u001b[38;5;241m.\u001b[39m_can_hold_identifiers_and_holds_name(name):\n",
      "File \u001b[1;32mC:\\ANACONDA\\envs\\ds_practicum_env\\lib\\site-packages\\pandas\\core\\accessor.py:180\u001b[0m, in \u001b[0;36mCachedAccessor.__get__\u001b[1;34m(self, obj, cls)\u001b[0m\n\u001b[0;32m    177\u001b[0m \u001b[38;5;28;01mif\u001b[39;00m obj \u001b[38;5;129;01mis\u001b[39;00m \u001b[38;5;28;01mNone\u001b[39;00m:\n\u001b[0;32m    178\u001b[0m     \u001b[38;5;66;03m# we're accessing the attribute of the class, i.e., Dataset.geo\u001b[39;00m\n\u001b[0;32m    179\u001b[0m     \u001b[38;5;28;01mreturn\u001b[39;00m \u001b[38;5;28mself\u001b[39m\u001b[38;5;241m.\u001b[39m_accessor\n\u001b[1;32m--> 180\u001b[0m accessor_obj \u001b[38;5;241m=\u001b[39m \u001b[38;5;28;43mself\u001b[39;49m\u001b[38;5;241;43m.\u001b[39;49m\u001b[43m_accessor\u001b[49m\u001b[43m(\u001b[49m\u001b[43mobj\u001b[49m\u001b[43m)\u001b[49m\n\u001b[0;32m    181\u001b[0m \u001b[38;5;66;03m# Replace the property with the accessor object. Inspired by:\u001b[39;00m\n\u001b[0;32m    182\u001b[0m \u001b[38;5;66;03m# https://www.pydanny.com/cached-property.html\u001b[39;00m\n\u001b[0;32m    183\u001b[0m \u001b[38;5;66;03m# We need to use object.__setattr__ because we overwrite __setattr__ on\u001b[39;00m\n\u001b[0;32m    184\u001b[0m \u001b[38;5;66;03m# NDFrame\u001b[39;00m\n\u001b[0;32m    185\u001b[0m \u001b[38;5;28mobject\u001b[39m\u001b[38;5;241m.\u001b[39m\u001b[38;5;21m__setattr__\u001b[39m(obj, \u001b[38;5;28mself\u001b[39m\u001b[38;5;241m.\u001b[39m_name, accessor_obj)\n",
      "File \u001b[1;32mC:\\ANACONDA\\envs\\ds_practicum_env\\lib\\site-packages\\pandas\\core\\strings\\accessor.py:154\u001b[0m, in \u001b[0;36mStringMethods.__init__\u001b[1;34m(self, data)\u001b[0m\n\u001b[0;32m    151\u001b[0m \u001b[38;5;28;01mdef\u001b[39;00m \u001b[38;5;21m__init__\u001b[39m(\u001b[38;5;28mself\u001b[39m, data):\n\u001b[0;32m    152\u001b[0m     \u001b[38;5;28;01mfrom\u001b[39;00m \u001b[38;5;21;01mpandas\u001b[39;00m\u001b[38;5;21;01m.\u001b[39;00m\u001b[38;5;21;01mcore\u001b[39;00m\u001b[38;5;21;01m.\u001b[39;00m\u001b[38;5;21;01marrays\u001b[39;00m\u001b[38;5;21;01m.\u001b[39;00m\u001b[38;5;21;01mstring_\u001b[39;00m \u001b[38;5;28;01mimport\u001b[39;00m StringDtype\n\u001b[1;32m--> 154\u001b[0m     \u001b[38;5;28mself\u001b[39m\u001b[38;5;241m.\u001b[39m_inferred_dtype \u001b[38;5;241m=\u001b[39m \u001b[38;5;28;43mself\u001b[39;49m\u001b[38;5;241;43m.\u001b[39;49m\u001b[43m_validate\u001b[49m\u001b[43m(\u001b[49m\u001b[43mdata\u001b[49m\u001b[43m)\u001b[49m\n\u001b[0;32m    155\u001b[0m     \u001b[38;5;28mself\u001b[39m\u001b[38;5;241m.\u001b[39m_is_categorical \u001b[38;5;241m=\u001b[39m is_categorical_dtype(data\u001b[38;5;241m.\u001b[39mdtype)\n\u001b[0;32m    156\u001b[0m     \u001b[38;5;28mself\u001b[39m\u001b[38;5;241m.\u001b[39m_is_string \u001b[38;5;241m=\u001b[39m \u001b[38;5;28misinstance\u001b[39m(data\u001b[38;5;241m.\u001b[39mdtype, StringDtype)\n",
      "File \u001b[1;32mC:\\ANACONDA\\envs\\ds_practicum_env\\lib\\site-packages\\pandas\\core\\strings\\accessor.py:217\u001b[0m, in \u001b[0;36mStringMethods._validate\u001b[1;34m(data)\u001b[0m\n\u001b[0;32m    214\u001b[0m     inferred_dtype \u001b[38;5;241m=\u001b[39m \u001b[38;5;28;01mNone\u001b[39;00m\n\u001b[0;32m    216\u001b[0m \u001b[38;5;28;01mif\u001b[39;00m inferred_dtype \u001b[38;5;129;01mnot\u001b[39;00m \u001b[38;5;129;01min\u001b[39;00m allowed_types:\n\u001b[1;32m--> 217\u001b[0m     \u001b[38;5;28;01mraise\u001b[39;00m \u001b[38;5;167;01mAttributeError\u001b[39;00m(\u001b[38;5;124m\"\u001b[39m\u001b[38;5;124mCan only use .str accessor with string values!\u001b[39m\u001b[38;5;124m\"\u001b[39m)\n\u001b[0;32m    218\u001b[0m \u001b[38;5;28;01mreturn\u001b[39;00m inferred_dtype\n",
      "\u001b[1;31mAttributeError\u001b[0m: Can only use .str accessor with string values!"
     ]
    }
   ],
   "source": [
    "result = df[df_1['finish_dttm'].str.startswith('2022-08-01')]['agent_login'].nunique()\n",
    "print(result)\n"
   ]
  },
  {
   "cell_type": "code",
   "execution_count": 100,
   "id": "caa5f9f9",
   "metadata": {
    "scrolled": true
   },
   "outputs": [
    {
     "name": "stdout",
     "output_type": "stream",
     "text": [
      "              finish_dttm  agent_login\n",
      "0     2022-08-01 04:36:31            1\n",
      "1     2022-08-01 04:49:49            1\n",
      "2     2022-08-01 04:53:14            1\n",
      "3     2022-08-01 05:07:46            1\n",
      "4     2022-08-01 05:10:23            1\n",
      "...                   ...          ...\n",
      "85027 2022-08-31 21:11:55            1\n",
      "85028 2022-08-31 21:24:37            1\n",
      "85029 2022-08-31 21:50:45            1\n",
      "85030 2022-08-31 21:59:13            1\n",
      "85031 2022-08-31 22:01:45            1\n",
      "\n",
      "[85032 rows x 2 columns]\n"
     ]
    }
   ],
   "source": [
    "result = df.groupby('finish_dttm')['agent_login'].nunique().reset_index()\n",
    "print(result)"
   ]
  },
  {
   "cell_type": "code",
   "execution_count": 99,
   "id": "8c97eec5",
   "metadata": {},
   "outputs": [
    {
     "name": "stdout",
     "output_type": "stream",
     "text": [
      "finish_dttm\n",
      "2022-08-01 04:36:31    1\n",
      "2022-08-01 04:49:49    1\n",
      "2022-08-01 04:53:14    1\n",
      "2022-08-01 05:07:46    1\n",
      "2022-08-01 05:10:23    1\n",
      "                      ..\n",
      "2022-08-31 21:11:55    1\n",
      "2022-08-31 21:24:37    1\n",
      "2022-08-31 21:50:45    1\n",
      "2022-08-31 21:59:13    1\n",
      "2022-08-31 22:01:45    1\n",
      "Name: agent_login, Length: 85032, dtype: int64\n"
     ]
    }
   ],
   "source": [
    "user_count_by_date = df.groupby('finish_dttm')['agent_login'].count()\n",
    "print(user_count_by_date)"
   ]
  },
  {
   "cell_type": "code",
   "execution_count": 96,
   "id": "0f80e66b",
   "metadata": {},
   "outputs": [
    {
     "data": {
      "image/png": "[encoded data removed]",
      "text/plain": [
       "<Figure size 1200x600 with 1 Axes>"
      ]
     },
     "metadata": {},
     "output_type": "display_data"
    }
   ],
   "source": [
    "# Группировка данных по дате и подсчет количества уникальных пользователей в каждый день\n",
    "daily_user_count = df.groupby('agent_login').size()\n",
    "\n",
    "# Создание диаграммы\n",
    "plt.figure(figsize=(12, 6))\n",
    "plt.bar(daily_user_count.index, daily_user_count.values, color='skyblue')\n",
    "\n",
    "# Настройка осей и заголовка\n",
    "plt.xlabel('Date')\n",
    "plt.ylabel('Number of Users')\n",
    "plt.title('Daily User Login Counts')\n",
    "\n",
    "# Поворот дат на оси X для лучшей читаемости\n",
    "plt.xticks(rotation=45)\n",
    "\n",
    "plt.show()"
   ]
  },
  {
   "cell_type": "code",
   "execution_count": null,
   "id": "6c72027d",
   "metadata": {},
   "outputs": [],
   "source": []
  },
  {
   "cell_type": "code",
   "execution_count": 70,
   "id": "db8374ed",
   "metadata": {},
   "outputs": [
    {
     "data": {
      "text/plain": [
       "Timestamp('2022-08-31 22:01:45')"
      ]
     },
     "execution_count": 70,
     "metadata": {},
     "output_type": "execute_result"
    }
   ],
   "source": [
    "df['finish_dttm'].max()"
   ]
  },
  {
   "cell_type": "code",
   "execution_count": 71,
   "id": "151c290e",
   "metadata": {},
   "outputs": [
    {
     "data": {
      "text/plain": [
       "Timestamp('2022-08-01 04:36:31')"
      ]
     },
     "execution_count": 71,
     "metadata": {},
     "output_type": "execute_result"
    }
   ],
   "source": [
    "df['finish_dttm'].min()"
   ]
  },
  {
   "cell_type": "code",
   "execution_count": null,
   "id": "7781fa13",
   "metadata": {},
   "outputs": [],
   "source": [
    "import pandas as pd\n",
    "\n",
    "# Загрузка данных\n",
    "df = pd.read_csv('file.csv')\n",
    "\n",
    "# Вычисление среднего значения\n",
    "mean_duration_sec = df[df['agent_login'] == '0212legr']['duration_sec'].mean()\n",
    "\n",
    "print(mean_duration_sec)\n"
   ]
  },
  {
   "cell_type": "code",
   "execution_count": 82,
   "id": "a294f1c8",
   "metadata": {
    "scrolled": true
   },
   "outputs": [
    {
     "name": "stdout",
     "output_type": "stream",
     "text": [
      "1971.55679245283\n"
     ]
    }
   ],
   "source": [
    "sr = mean_duration_sec = df[df['agent_login'] == '0212legr']['duration_sec'].mean()\n",
    "print(sr)"
   ]
  },
  {
   "cell_type": "code",
   "execution_count": 90,
   "id": "ed5a891b",
   "metadata": {},
   "outputs": [],
   "source": [
    "df_1 = df.copy()"
   ]
  },
  {
   "cell_type": "code",
   "execution_count": 94,
   "id": "d0a9bccf",
   "metadata": {},
   "outputs": [
    {
     "data": {
      "image/png": "[encoded data removed]",
      "text/plain": [
       "<Figure size 1200x600 with 3 Axes>"
      ]
     },
     "metadata": {},
     "output_type": "display_data"
    }
   ],
   "source": [
    "import pandas as pd\n",
    "import matplotlib.pyplot as plt\n",
    "import statsmodels.api as sm\n",
    "\n",
    "# Создание синтетических данных для примера\n",
    "data = {\n",
    "    'finish_dttm': pd.date_range(start='2022-01-01', periods=365, freq='D'),\n",
    "    'duration_sec': range(365)\n",
    "}\n",
    "df_1 = pd.DataFrame(data)\n",
    "\n",
    "# Установка столбца finish_dttm в качестве индекса DataFrame\n",
    "df_1.set_index('finish_dttm', inplace=True)\n",
    "\n",
    "# Фильтрация данных для диапазона с 01.08.2022 по 31.08.2022\n",
    "filtered_df = df_1['2022-08-01':'2022-08-31']\n",
    "\n",
    "# Декомпозиция временного ряда для выделения тренда и сезонности\n",
    "result = sm.tsa.seasonal_decompose(filtered_df['duration_sec'], model='additive')\n",
    "\n",
    "# Построение графика с трендом и сезонностью, разбитым на каждый день\n",
    "plt.figure(figsize=(12, 6))\n",
    "plt.subplot(311)\n",
    "plt.plot(filtered_df['duration_sec'], label='Original Data')\n",
    "plt.legend(loc='best')\n",
    "plt.subplot(312)\n",
    "plt.plot(result.trend, label='Trend')\n",
    "plt.legend(loc='best')\n",
    "plt.subplot(313)\n",
    "plt.plot(result.seasonal, label='Seasonality')\n",
    "plt.legend(loc='best')\n",
    "\n",
    "# Добавление разбивки по каждому дню\n",
    "for day in filtered_df.index:\n",
    "    plt.axvline(x=day, color='gray', linestyle='--', alpha=0.5)\n",
    "\n",
    "plt.show()\n"
   ]
  },
  {
   "cell_type": "code",
   "execution_count": null,
   "id": "32a06e52",
   "metadata": {},
   "outputs": [],
   "source": []
  }
 ],
 "metadata": {
  "kernelspec": {
   "display_name": "Python 3 (ipykernel)",
   "language": "python",
   "name": "python3"
  },
  "language_info": {
   "codemirror_mode": {
    "name": "ipython",
    "version": 3
   },
   "file_extension": ".py",
   "mimetype": "text/x-python",
   "name": "python",
   "nbconvert_exporter": "python",
   "pygments_lexer": "ipython3",
   "version": "3.9.13"
  },
  "toc": {
   "base_numbering": 1,
   "nav_menu": {},
   "number_sections": true,
   "sideBar": true,
   "skip_h1_title": false,
   "title_cell": "Table of Contents",
   "title_sidebar": "Contents",
   "toc_cell": false,
   "toc_position": {
    "height": "calc(100% - 180px)",
    "left": "10px",
    "top": "150px",
    "width": "374.391px"
   },
   "toc_section_display": true,
   "toc_window_display": true
  }
 },
 "nbformat": 4,
 "nbformat_minor": 5
}
